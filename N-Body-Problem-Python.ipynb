{
 "cells": [
  {
   "cell_type": "code",
   "execution_count": 1,
   "metadata": {},
   "outputs": [],
   "source": [
    "import math\n",
    "import autograd.numpy as np\n",
    "import sympy as sp\n",
    "import matplotlib.pyplot as plt\n",
    "from matplotlib import animation\n",
    "from autograd import grad"
   ]
  },
  {
   "cell_type": "code",
   "execution_count": 2,
   "metadata": {
    "tags": []
   },
   "outputs": [
    {
     "name": "stdout",
     "output_type": "stream",
     "text": [
      "Escape velocity: 11.2 km/s\n"
     ]
    }
   ],
   "source": [
    "D = 2 # dimensionality of space (2D, 3D etc.)\n",
    "N = 3 # number of bodies - currently Sun, Earth, Mars - we will increase this later\n",
    "\n",
    "G = 6.67408e-11 # m^3 kg^{-1} s^{-1}\n",
    "M_e = 5.972e24 # kg\n",
    "R_e = 6.373e6 # m\n",
    "\n",
    "v_e = math.sqrt(2*G*M_e/R_e) # m/s\n",
    "\n",
    "print(\"Escape velocity: \"+'{:.1f}'.format(v_e / 1e3)+ \" km/s\", ) # printf macro useful for formatted printing"
   ]
  },
  {
   "cell_type": "code",
   "execution_count": 3,
   "metadata": {},
   "outputs": [
    {
     "data": {
      "text/plain": [
       "array([1.0e+00, 1.0e+00, 3.0e-06, 3.0e-06, 3.2e-07, 3.2e-07])"
      ]
     },
     "execution_count": 3,
     "metadata": {},
     "output_type": "execute_result"
    }
   ],
   "source": [
    "# Masses in solar mass units\n",
    "m_s = 1.0  \n",
    "m_e = 0.000003 \n",
    "m_m = 0.00000032\n",
    "\n",
    "m = [m_s, m_e, m_m] # pack masses into a 1D array\n",
    "\n",
    "M = np.repeat(m, D)  # repeat masses for each dimension\n",
    "M"
   ]
  },
  {
   "cell_type": "code",
   "execution_count": 4,
   "metadata": {},
   "outputs": [],
   "source": [
    "# Initial position vectors in X,Y coordinates\n",
    "r_s = [0.0, 0.0]\n",
    "r_e = [0.1, -1.0] # In astronomical units\n",
    "r_m = [0.0, -1.524]; # In astronomical units"
   ]
  },
  {
   "cell_type": "code",
   "execution_count": 5,
   "metadata": {
    "scrolled": true
   },
   "outputs": [],
   "source": [
    "def potential_energy(R):\n",
    "    r = np.reshape(R, (N, D)) # convert from 1d vector back to D-dimensional (here 2D)\n",
    "    U = 0.0\n",
    "    for i in range(N):\n",
    "        for j in range(N):\n",
    "            if i != j:\n",
    "                r_ij = np.linalg.norm(r[i] - r[j]) # distance from i to j\n",
    "                U += -G/2.0 * m[i]*m[j] / r_ij # contribution to potential\n",
    "    return U"
   ]
  },
  {
   "cell_type": "code",
   "execution_count": 6,
   "metadata": {
    "tags": []
   },
   "outputs": [
    {
     "name": "stdout",
     "output_type": "stream",
     "text": [
      "[[ 0.     0.   ]\n",
      " [ 0.1   -1.   ]\n",
      " [ 0.    -1.524]]\n"
     ]
    },
    {
     "data": {
      "text/plain": [
       "array([ 0.   ,  0.   ,  0.1  , -1.   ,  0.   , -1.524])"
      ]
     },
     "execution_count": 6,
     "metadata": {},
     "output_type": "execute_result"
    }
   ],
   "source": [
    "r0 = np.reshape([r_s, r_e, r_m], [N, D])\n",
    "print(r0)\n",
    "R0 = np.reshape(r0, N*D) # pack into 1D array\n",
    "R0"
   ]
  },
  {
   "cell_type": "code",
   "execution_count": 7,
   "metadata": {},
   "outputs": [
    {
     "data": {
      "text/plain": [
       "array([-1.97256173e-17,  2.06451590e-16,  1.97256595e-17, -1.97255951e-16,\n",
       "       -4.22051293e-23, -9.19563866e-18])"
      ]
     },
     "execution_count": 7,
     "metadata": {},
     "output_type": "execute_result"
    }
   ],
   "source": [
    "grad_potential_energy = grad(potential_energy)\n",
    "UR = grad_potential_energy(R0)\n",
    "UR"
   ]
  },
  {
   "cell_type": "code",
   "execution_count": 8,
   "metadata": {},
   "outputs": [
    {
     "data": {
      "text/plain": [
       "array([-1.97246301e-17,  2.06449587e-16,  1.97266165e-17, -1.97257895e-16,\n",
       "       -1.20350592e-23, -9.19569900e-18])"
      ]
     },
     "execution_count": 8,
     "metadata": {},
     "output_type": "execute_result"
    }
   ],
   "source": [
    "h = 1e-5\n",
    "dU = np.zeros(N*D)\n",
    "for i in range(N*D):\n",
    "    Rp = R0.copy()\n",
    "    Rp[i] += h\n",
    "    dU[i] = (potential_energy(Rp) - potential_energy(R0)) / h\n",
    "dU"
   ]
  },
  {
   "cell_type": "code",
   "execution_count": 9,
   "metadata": {
    "tags": []
   },
   "outputs": [
    {
     "name": "stdout",
     "output_type": "stream",
     "text": [
      "[[ 0.    0.  ]\n",
      " [-6.32  0.  ]\n",
      " [-5.05  0.  ]]\n"
     ]
    },
    {
     "data": {
      "text/plain": [
       "array([ 0.  ,  0.  , -6.32,  0.  , -5.05,  0.  ])"
      ]
     },
     "execution_count": 9,
     "metadata": {},
     "output_type": "execute_result"
    }
   ],
   "source": [
    "# Initial velocity vectors in X,Y coordinates\n",
    "v_s = [0.0, 0.0] # In astronomical units per year\n",
    "v_e = [-6.32, 0.0] # In astronomical units per year\n",
    "v_m = [-5.05, 0.0] # In astronomical units per year\n",
    "\n",
    "# pack into NxD array and vector log length N*D\n",
    "v0 = np.reshape([v_s, v_e, v_m], [N, D])\n",
    "print(v0)\n",
    "V0 = np.reshape(v0, N*D) # pack into 1D array\n",
    "V0"
   ]
  },
  {
   "cell_type": "code",
   "execution_count": 10,
   "metadata": {},
   "outputs": [],
   "source": [
    "G = 37.95  # Gravitational constant"
   ]
  },
  {
   "cell_type": "code",
   "execution_count": 11,
   "metadata": {},
   "outputs": [
    {
     "data": {
      "text/plain": [
       "400"
      ]
     },
     "execution_count": 11,
     "metadata": {},
     "output_type": "execute_result"
    }
   ],
   "source": [
    "# Simulation time variables\n",
    "dt = 0.005\n",
    "t = np.arange(0.0, 2, dt)\n",
    "T = len(t) # Total simulation points\n",
    "T"
   ]
  },
  {
   "cell_type": "code",
   "execution_count": 12,
   "metadata": {
    "tags": []
   },
   "outputs": [],
   "source": [
    "def forward_euler(R0, V0, M, dt, T):\n",
    "\n",
    "    n = len(R0)      # number of degrees of freedom (N x D)\n",
    "    R = R0.copy()        # current position\n",
    "    V = V0.copy()        # current velocity\n",
    "    Rs = np.zeros([T, n])    # position history (trajectory) \n",
    "    Vs = np.zeros([T, n])    # velocity history\n",
    "\n",
    "    for i in range(T):\n",
    "        Rs[i] = R    # Store positions\n",
    "        Vs[i] = V    # Store velocities\n",
    "\n",
    "        V_i = V.copy()   # Store current values of velocities\n",
    "        #print(potential_energy(R))\n",
    "        A = -grad_potential_energy(R) / M # acceleration from Newton's 2nd law (F = ma)\n",
    "        #print(A)\n",
    "        V += A * dt     # Update velocities\n",
    "        R += V_i * dt   # Update positions\n",
    "    return (Rs, Vs)\n",
    "\n",
    "\n",
    "R1, V1 = forward_euler(R0, V0, M, dt, T)"
   ]
  },
  {
   "cell_type": "code",
   "execution_count": 13,
   "metadata": {},
   "outputs": [],
   "source": [
    "from ipywidgets import interactive\n",
    "\n",
    "def plot_trajectory(traj, step=5):\n",
    "    Rs = np.reshape(traj, [np.size(traj, 0), N, D])\n",
    "\n",
    "    def animate(n=0):\n",
    "        fig, ax = plt.subplots(figsize=(8, 8))\n",
    "        plt.xlim(-2, 2)\n",
    "        plt.ylim(-2, 2)   \n",
    "\n",
    "        # Sun - yellow\n",
    "        ax.scatter(Rs[n, 0, 0], Rs[n, 0, 1], c='y', s=30)\n",
    "        ax.plot(Rs[:n, 0, 0], Rs[:n, 0, 1], 'y-')\n",
    "                                \n",
    "        # Earth - blue            \n",
    "        ax.scatter(Rs[n, 1, 0], Rs[n, 1, 1], c='b', s=20)\n",
    "        ax.plot(Rs[:n, 1, 0], Rs[:n, 1, 1], 'b-')\n",
    "                                \n",
    "        # Mars - red\n",
    "        ax.scatter(Rs[n, 2, 0], Rs[n, 2, 1], c='r', s=10)\n",
    "        ax.plot(Rs[:n, 2, 0], Rs[:n, 2, 1], 'r-')\n",
    "                                \n",
    "        # for the spaceship, see later...\n",
    "        if np.size(Rs, 1) > 3:\n",
    "            ax.scatter(Rs[n, 3, 0], Rs[n, 3, 1], c='g', s=5)\n",
    "            ax.plot(Rs[:n, 3, 0], Rs[:n, 3, 1], c='g')\n",
    "\n",
    "    return interactive(animate, n=(0, len(traj)-1, step))"
   ]
  },
  {
   "cell_type": "code",
   "execution_count": 14,
   "metadata": {
    "tags": []
   },
   "outputs": [
    {
     "data": {
      "application/vnd.jupyter.widget-view+json": {
       "model_id": "4587cc8322414683bce4652c1bd552d3",
       "version_major": 2,
       "version_minor": 0
      },
      "text/plain": [
       "interactive(children=(IntSlider(value=0, description='n', max=399, step=5), Output()), _dom_classes=('widget-i…"
      ]
     },
     "metadata": {},
     "output_type": "display_data"
    }
   ],
   "source": [
    "plot_trajectory(R1)"
   ]
  },
  {
   "cell_type": "code",
   "execution_count": 91,
   "metadata": {},
   "outputs": [],
   "source": [
    "def symplectic_euler(R0, V0, M, dt, T):\n",
    "    n = len(R0)          # number of degrees of freedom (N x D)\n",
    "    R = R0.copy()        # current position\n",
    "    V = V0.copy()        # current velocity\n",
    "    Rs = np.zeros([T, n])  # position history (trajectory) \n",
    "    Vs = np.zeros([T, n])  # velocity history\n",
    "\n",
    "    for i in range(T):\n",
    "        Rs[i] = R     # Store positions\n",
    "        Vs[i] = V     # Store velocities\n",
    "        \n",
    "        A = -grad_potential_energy(R) / M  # acceleration from Newton's 2nd law (F = ma)\n",
    "        V += A * dt      # Update velocities\n",
    "        R += V * dt      # Update positions\n",
    "    \n",
    "    return (Rs, Vs)\n",
    "\n",
    "R2, V2 = symplectic_euler(R0, V0, M, dt, T);"
   ]
  },
  {
   "cell_type": "code",
   "execution_count": 92,
   "metadata": {},
   "outputs": [
    {
     "data": {
      "application/vnd.jupyter.widget-view+json": {
       "model_id": "800f67c7c0c541ef922df2644640f92b",
       "version_major": 2,
       "version_minor": 0
      },
      "text/plain": [
       "interactive(children=(IntSlider(value=200, description=&#39;n&#39;, max=400, step=5), Output()), _dom_classes=(&#39;widget…"
      ]
     },
     "metadata": {},
     "output_type": "display_data"
    }
   ],
   "source": [
    "plot_trajectory(R2)"
   ]
  },
  {
   "cell_type": "code",
   "execution_count": 17,
   "metadata": {},
   "outputs": [
    {
     "ename": "TypeError",
     "evalue": "only integer scalar arrays can be converted to a scalar index",
     "output_type": "error",
     "traceback": [
      "\u001b[1;31m---------------------------------------------------------------------------\u001b[0m",
      "\u001b[1;31mTypeError\u001b[0m                                 Traceback (most recent call last)",
      "\u001b[1;32m<ipython-input-17-871328c190ab>\u001b[0m in \u001b[0;36m<module>\u001b[1;34m\u001b[0m\n\u001b[0;32m      4\u001b[0m \u001b[0mr0\u001b[0m \u001b[1;33m=\u001b[0m \u001b[0mnp\u001b[0m\u001b[1;33m.\u001b[0m\u001b[0mtranspose\u001b[0m\u001b[1;33m(\u001b[0m\u001b[1;33m[\u001b[0m\u001b[0mr_s\u001b[0m\u001b[1;33m,\u001b[0m \u001b[0mr_e\u001b[0m\u001b[1;33m,\u001b[0m \u001b[0mr_m\u001b[0m\u001b[1;33m]\u001b[0m\u001b[1;33m)\u001b[0m\u001b[1;33m\u001b[0m\u001b[1;33m\u001b[0m\u001b[0m\n\u001b[0;32m      5\u001b[0m \u001b[0mr0_spc\u001b[0m \u001b[1;33m=\u001b[0m \u001b[0mnp\u001b[0m\u001b[1;33m.\u001b[0m\u001b[0mtranspose\u001b[0m\u001b[1;33m(\u001b[0m\u001b[1;33m[\u001b[0m\u001b[1;36m0.101\u001b[0m\u001b[1;33m,\u001b[0m \u001b[1;33m-\u001b[0m\u001b[1;36m1.001\u001b[0m\u001b[1;33m]\u001b[0m\u001b[1;33m)\u001b[0m \u001b[1;31m# small displacement away from Earth\u001b[0m\u001b[1;33m\u001b[0m\u001b[1;33m\u001b[0m\u001b[0m\n\u001b[1;32m----> 6\u001b[1;33m \u001b[0mr0p\u001b[0m \u001b[1;33m=\u001b[0m \u001b[0mnp\u001b[0m\u001b[1;33m.\u001b[0m\u001b[0mconcatenate\u001b[0m\u001b[1;33m(\u001b[0m\u001b[0mr0\u001b[0m\u001b[1;33m,\u001b[0m \u001b[0mr0_spc\u001b[0m\u001b[1;33m)\u001b[0m\u001b[1;33m\u001b[0m\u001b[1;33m\u001b[0m\u001b[0m\n\u001b[0m\u001b[0;32m      7\u001b[0m \u001b[0mR0p\u001b[0m \u001b[1;33m=\u001b[0m \u001b[0mreshape\u001b[0m\u001b[1;33m(\u001b[0m\u001b[0mr0p\u001b[0m\u001b[1;33m,\u001b[0m \u001b[0mN\u001b[0m\u001b[1;33m*\u001b[0m\u001b[0mD\u001b[0m\u001b[1;33m)\u001b[0m\u001b[1;33m\u001b[0m\u001b[1;33m\u001b[0m\u001b[0m\n\u001b[0;32m      8\u001b[0m \u001b[0mprint\u001b[0m\u001b[1;33m(\u001b[0m\u001b[0mR0p\u001b[0m\u001b[1;33m)\u001b[0m\u001b[1;33m\u001b[0m\u001b[1;33m\u001b[0m\u001b[0m\n",
      "\u001b[1;32m~\\anaconda3\\lib\\site-packages\\autograd\\numpy\\numpy_wrapper.py\u001b[0m in \u001b[0;36m<lambda>\u001b[1;34m(arr_list, axis)\u001b[0m\n\u001b[0;32m     36\u001b[0m \u001b[1;32mdef\u001b[0m \u001b[0mconcatenate_args\u001b[0m\u001b[1;33m(\u001b[0m\u001b[0maxis\u001b[0m\u001b[1;33m,\u001b[0m \u001b[1;33m*\u001b[0m\u001b[0margs\u001b[0m\u001b[1;33m)\u001b[0m\u001b[1;33m:\u001b[0m\u001b[1;33m\u001b[0m\u001b[1;33m\u001b[0m\u001b[0m\n\u001b[0;32m     37\u001b[0m     \u001b[1;32mreturn\u001b[0m \u001b[0m_np\u001b[0m\u001b[1;33m.\u001b[0m\u001b[0mconcatenate\u001b[0m\u001b[1;33m(\u001b[0m\u001b[0margs\u001b[0m\u001b[1;33m,\u001b[0m \u001b[0maxis\u001b[0m\u001b[1;33m)\u001b[0m\u001b[1;33m.\u001b[0m\u001b[0mview\u001b[0m\u001b[1;33m(\u001b[0m\u001b[0mndarray\u001b[0m\u001b[1;33m)\u001b[0m\u001b[1;33m\u001b[0m\u001b[1;33m\u001b[0m\u001b[0m\n\u001b[1;32m---> 38\u001b[1;33m \u001b[0mconcatenate\u001b[0m \u001b[1;33m=\u001b[0m \u001b[1;32mlambda\u001b[0m \u001b[0marr_list\u001b[0m\u001b[1;33m,\u001b[0m \u001b[0maxis\u001b[0m\u001b[1;33m=\u001b[0m\u001b[1;36m0\u001b[0m \u001b[1;33m:\u001b[0m \u001b[0mconcatenate_args\u001b[0m\u001b[1;33m(\u001b[0m\u001b[0maxis\u001b[0m\u001b[1;33m,\u001b[0m \u001b[1;33m*\u001b[0m\u001b[0marr_list\u001b[0m\u001b[1;33m)\u001b[0m\u001b[1;33m\u001b[0m\u001b[1;33m\u001b[0m\u001b[0m\n\u001b[0m\u001b[0;32m     39\u001b[0m \u001b[0mvstack\u001b[0m \u001b[1;33m=\u001b[0m \u001b[0mrow_stack\u001b[0m \u001b[1;33m=\u001b[0m \u001b[1;32mlambda\u001b[0m \u001b[0mtup\u001b[0m\u001b[1;33m:\u001b[0m \u001b[0mconcatenate\u001b[0m\u001b[1;33m(\u001b[0m\u001b[1;33m[\u001b[0m\u001b[0matleast_2d\u001b[0m\u001b[1;33m(\u001b[0m\u001b[0m_m\u001b[0m\u001b[1;33m)\u001b[0m \u001b[1;32mfor\u001b[0m \u001b[0m_m\u001b[0m \u001b[1;32min\u001b[0m \u001b[0mtup\u001b[0m\u001b[1;33m]\u001b[0m\u001b[1;33m,\u001b[0m \u001b[0maxis\u001b[0m\u001b[1;33m=\u001b[0m\u001b[1;36m0\u001b[0m\u001b[1;33m)\u001b[0m\u001b[1;33m\u001b[0m\u001b[1;33m\u001b[0m\u001b[0m\n\u001b[0;32m     40\u001b[0m \u001b[1;32mdef\u001b[0m \u001b[0mhstack\u001b[0m\u001b[1;33m(\u001b[0m\u001b[0mtup\u001b[0m\u001b[1;33m)\u001b[0m\u001b[1;33m:\u001b[0m\u001b[1;33m\u001b[0m\u001b[1;33m\u001b[0m\u001b[0m\n",
      "\u001b[1;32m~\\anaconda3\\lib\\site-packages\\autograd\\tracer.py\u001b[0m in \u001b[0;36mf_wrapped\u001b[1;34m(*args, **kwargs)\u001b[0m\n\u001b[0;32m     46\u001b[0m             \u001b[1;32mreturn\u001b[0m \u001b[0mnew_box\u001b[0m\u001b[1;33m(\u001b[0m\u001b[0mans\u001b[0m\u001b[1;33m,\u001b[0m \u001b[0mtrace\u001b[0m\u001b[1;33m,\u001b[0m \u001b[0mnode\u001b[0m\u001b[1;33m)\u001b[0m\u001b[1;33m\u001b[0m\u001b[1;33m\u001b[0m\u001b[0m\n\u001b[0;32m     47\u001b[0m         \u001b[1;32melse\u001b[0m\u001b[1;33m:\u001b[0m\u001b[1;33m\u001b[0m\u001b[1;33m\u001b[0m\u001b[0m\n\u001b[1;32m---> 48\u001b[1;33m             \u001b[1;32mreturn\u001b[0m \u001b[0mf_raw\u001b[0m\u001b[1;33m(\u001b[0m\u001b[1;33m*\u001b[0m\u001b[0margs\u001b[0m\u001b[1;33m,\u001b[0m \u001b[1;33m**\u001b[0m\u001b[0mkwargs\u001b[0m\u001b[1;33m)\u001b[0m\u001b[1;33m\u001b[0m\u001b[1;33m\u001b[0m\u001b[0m\n\u001b[0m\u001b[0;32m     49\u001b[0m     \u001b[0mf_wrapped\u001b[0m\u001b[1;33m.\u001b[0m\u001b[0mfun\u001b[0m \u001b[1;33m=\u001b[0m \u001b[0mf_raw\u001b[0m\u001b[1;33m\u001b[0m\u001b[1;33m\u001b[0m\u001b[0m\n\u001b[0;32m     50\u001b[0m     \u001b[0mf_wrapped\u001b[0m\u001b[1;33m.\u001b[0m\u001b[0m_is_autograd_primitive\u001b[0m \u001b[1;33m=\u001b[0m \u001b[1;32mTrue\u001b[0m\u001b[1;33m\u001b[0m\u001b[1;33m\u001b[0m\u001b[0m\n",
      "\u001b[1;32m~\\anaconda3\\lib\\site-packages\\autograd\\numpy\\numpy_wrapper.py\u001b[0m in \u001b[0;36mconcatenate_args\u001b[1;34m(axis, *args)\u001b[0m\n\u001b[0;32m     35\u001b[0m \u001b[1;33m@\u001b[0m\u001b[0mprimitive\u001b[0m\u001b[1;33m\u001b[0m\u001b[1;33m\u001b[0m\u001b[0m\n\u001b[0;32m     36\u001b[0m \u001b[1;32mdef\u001b[0m \u001b[0mconcatenate_args\u001b[0m\u001b[1;33m(\u001b[0m\u001b[0maxis\u001b[0m\u001b[1;33m,\u001b[0m \u001b[1;33m*\u001b[0m\u001b[0margs\u001b[0m\u001b[1;33m)\u001b[0m\u001b[1;33m:\u001b[0m\u001b[1;33m\u001b[0m\u001b[1;33m\u001b[0m\u001b[0m\n\u001b[1;32m---> 37\u001b[1;33m     \u001b[1;32mreturn\u001b[0m \u001b[0m_np\u001b[0m\u001b[1;33m.\u001b[0m\u001b[0mconcatenate\u001b[0m\u001b[1;33m(\u001b[0m\u001b[0margs\u001b[0m\u001b[1;33m,\u001b[0m \u001b[0maxis\u001b[0m\u001b[1;33m)\u001b[0m\u001b[1;33m.\u001b[0m\u001b[0mview\u001b[0m\u001b[1;33m(\u001b[0m\u001b[0mndarray\u001b[0m\u001b[1;33m)\u001b[0m\u001b[1;33m\u001b[0m\u001b[1;33m\u001b[0m\u001b[0m\n\u001b[0m\u001b[0;32m     38\u001b[0m \u001b[0mconcatenate\u001b[0m \u001b[1;33m=\u001b[0m \u001b[1;32mlambda\u001b[0m \u001b[0marr_list\u001b[0m\u001b[1;33m,\u001b[0m \u001b[0maxis\u001b[0m\u001b[1;33m=\u001b[0m\u001b[1;36m0\u001b[0m \u001b[1;33m:\u001b[0m \u001b[0mconcatenate_args\u001b[0m\u001b[1;33m(\u001b[0m\u001b[0maxis\u001b[0m\u001b[1;33m,\u001b[0m \u001b[1;33m*\u001b[0m\u001b[0marr_list\u001b[0m\u001b[1;33m)\u001b[0m\u001b[1;33m\u001b[0m\u001b[1;33m\u001b[0m\u001b[0m\n\u001b[0;32m     39\u001b[0m \u001b[0mvstack\u001b[0m \u001b[1;33m=\u001b[0m \u001b[0mrow_stack\u001b[0m \u001b[1;33m=\u001b[0m \u001b[1;32mlambda\u001b[0m \u001b[0mtup\u001b[0m\u001b[1;33m:\u001b[0m \u001b[0mconcatenate\u001b[0m\u001b[1;33m(\u001b[0m\u001b[1;33m[\u001b[0m\u001b[0matleast_2d\u001b[0m\u001b[1;33m(\u001b[0m\u001b[0m_m\u001b[0m\u001b[1;33m)\u001b[0m \u001b[1;32mfor\u001b[0m \u001b[0m_m\u001b[0m \u001b[1;32min\u001b[0m \u001b[0mtup\u001b[0m\u001b[1;33m]\u001b[0m\u001b[1;33m,\u001b[0m \u001b[0maxis\u001b[0m\u001b[1;33m=\u001b[0m\u001b[1;36m0\u001b[0m\u001b[1;33m)\u001b[0m\u001b[1;33m\u001b[0m\u001b[1;33m\u001b[0m\u001b[0m\n",
      "\u001b[1;32m<__array_function__ internals>\u001b[0m in \u001b[0;36mconcatenate\u001b[1;34m(*args, **kwargs)\u001b[0m\n",
      "\u001b[1;31mTypeError\u001b[0m: only integer scalar arrays can be converted to a scalar index"
     ]
    }
   ],
   "source": [
    "#unfinished\n",
    "'''\n",
    "N = 4 # change number of particles from 3 to 4\n",
    "D = 2 # still modelling in 2D (x,y) plane\n",
    "\n",
    "r0 = np.transpose([r_s, r_e, r_m])\n",
    "r0_spc = np.transpose([0.101, -1.001]) # small displacement away from Earth    \n",
    "r0p = np.concatenate(r0, r0_spc)\n",
    "R0p = reshape(r0p, N*D)\n",
    "print(R0p)\n",
    "\n",
    "v0 = np.transpose([v_s, v_e, v_m])\n",
    "v0_spc = np.transpose([6.7, 1.2])\n",
    "v0p = np.concatenate(v0, v0_spc)\n",
    "V0p = np.reshape(v0p, N*D)\n",
    "\n",
    "V0p = np.concatenate(v0, v0_spc)\n",
    "print(V0p)\n",
    "\n",
    "m_spc = 1e-6\n",
    "\n",
    "m = [m_s, m_e, m_m, m_spc] \n",
    "M = np.repeat(m, D)\n",
    "\n",
    "(R, V) = symplectic_euler(R0p, V0p, M, dt, T);\n",
    "'''\n"
   ]
  },
  {
   "cell_type": "code",
   "execution_count": null,
   "metadata": {},
   "outputs": [],
   "source": []
  },
  {
   "cell_type": "code",
   "execution_count": null,
   "metadata": {},
   "outputs": [],
   "source": []
  }
 ],
 "metadata": {
  "kernelspec": {
   "display_name": "Python 3",
   "language": "python",
   "name": "python3"
  },
  "language_info": {
   "codemirror_mode": {
    "name": "ipython",
    "version": 3
   },
   "file_extension": ".py",
   "mimetype": "text/x-python",
   "name": "python",
   "nbconvert_exporter": "python",
   "pygments_lexer": "ipython3",
   "version": "3.7.6"
  }
 },
 "nbformat": 4,
 "nbformat_minor": 4
}
