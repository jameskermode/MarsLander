{
 "cells": [
  {
   "cell_type": "code",
   "execution_count": 1,
   "metadata": {
    "nbgrader": {
     "grade": false,
     "grade_id": "cell-9b76470e7dc3a34c",
     "locked": true,
     "schema_version": 3,
     "solution": false
    }
   },
   "outputs": [
    {
     "data": {
      "text/plain": [
       "Plots.GRBackend()"
      ]
     },
     "execution_count": 1,
     "metadata": {},
     "output_type": "execute_result"
    }
   ],
   "source": [
    "using Test\n",
    "using Plots\n",
    "using ForwardDiff\n",
    "using Printf, LinearAlgebra, Random\n",
    "gr(fmt=:png)"
   ]
  },
  {
   "cell_type": "markdown",
   "metadata": {
    "nbgrader": {
     "grade": false,
     "grade_id": "cell-caae5ad78e3e1899",
     "locked": true,
     "schema_version": 3,
     "solution": false
    }
   },
   "source": [
    "## IL027 Assignment 4 - Mars Lander\n",
    "\n",
    "The goal for this assigment is to safely land the \"Mars Lander\" shuttle. Mars Lander is guided by a program, and right now the failure rate for landing on the NASA simulator is unacceptable.\n",
    "\n",
    "The simulator puts Mars Lander on a limited zone of Mars sky. The zone is 7000m wide and 3000m high.\n",
    "\n",
    "There is a unique area of flat ground on the surface of Mars, which is at least 1000 meters wide. Every second, depending on the current flight parameters (location, speed, fuel ...), your program must provide the new desired tilt angle and thrust power of Mars Lander:\n",
    "\n",
    "<img src=\"https://www.codingame.com/fileservlet?id=2635325710601\">\n",
    "\n",
    "Angle goes from -90 degrees to 90 degrees. Thrust power goes from 0 to 4.\n",
    "\n",
    "<img src=\"https://www.codingame.com/fileservlet?id=957023678862\" width=\"300px\">\n",
    "\n",
    "We will simulate a free fall without atmosphere. Gravity on Mars is 3.711 m/$^2$. For a thrust power of $X$, a force equivalent to $X$ m/s$2$ is generated and $X$ litres of fuel are consumed per second. As such, a thrust power of 4 in an almost vertical direction is needed to compensate for the gravity on Mars.\n",
    "\n",
    "For a landing to be successful, the ship must:\n",
    "- land on flat ground\n",
    "- land in a vertical position (tilt angle = 0°)\n",
    "- vertical speed must be limited (<40m/s in absolute value)\n",
    "- horizontal speed must be limited (<20m/s in absolute value)\n",
    "\n",
    "## Initialization\n",
    "\n",
    "The function `mars_surface()` returns an array of size `(surfaceN, 2)` containing the points used to draw the surface of Mars and an integer `landing_site` giving the index of the row in this array containing the left-hand end of the flat landing site. \n",
    "\n",
    "Each row is a pair of integers `landX`,`landY` providing the coordinates of a ground point. By linking all the points together in a sequential fashion, you form the surface of Mars which is composed of several segments. For the first point, `landX = 0` and for the last point, `landX = 6999`"
   ]
  },
  {
   "cell_type": "code",
   "execution_count": 2,
   "metadata": {
    "nbgrader": {
     "grade": false,
     "grade_id": "cell-3884250dd1133146",
     "locked": true,
     "schema_version": 3,
     "solution": false
    }
   },
   "outputs": [
    {
     "data": {
      "text/plain": [
       "plot_lander (generic function with 2 methods)"
      ]
     },
     "execution_count": 2,
     "metadata": {},
     "output_type": "execute_result"
    }
   ],
   "source": [
    "function mars_surface()\n",
    "    surfaceN = rand(5:15)\n",
    "    land = zeros(Int64, surfaceN, 2)\n",
    "    \n",
    "    # first ensure there's a flat landing site at least 1000m long\n",
    "    landing_site = rand(2:surfaceN-1)\n",
    "    land[landing_site, 1] = rand(2000:5000)\n",
    "    land[landing_site+1, 1] = min(land[landing_site, 1] + rand(1000:2000), 6999)\n",
    "    land[landing_site+1, 2] = land[landing_site, 2] = rand(1:1500)\n",
    "    \n",
    "    # fill in the rest of the terrain\n",
    "    for i=1:landing_site-1\n",
    "        land[i, 1] = (land[landing_site,1] ÷ landing_site) * i\n",
    "        land[i, 2] = rand(0:1500)\n",
    "    end\n",
    "    \n",
    "    for i=landing_site+2:surfaceN\n",
    "        land[i, 1] = (land[landing_site+1,1] + \n",
    "                      (7000 - land[landing_site+1,1]) ÷ (surfaceN - landing_site) * i)\n",
    "        land[i, 2] = rand(0:1500)\n",
    "    end\n",
    "    \n",
    "    # impose boundary conditions\n",
    "    land[1, 1] = 0\n",
    "    land[end, 1] = 6999\n",
    "\n",
    "    return land, landing_site\n",
    "end\n",
    "\n",
    "function plot_surface(land, landing_site)\n",
    "    p = plot(land[1:landing_site, 1], land[1:landing_site, 2], c=:black, legend=false)\n",
    "    plot!(land[landing_site+1:end, 1], land[landing_site+1:end, 2], c=:black, legend=false)\n",
    "    plot!([land[landing_site, 1], land[landing_site+1, 1]], \n",
    "          [land[landing_site, 2], land[landing_site+1, 2]], c=:black, ls=:dash)\n",
    "    xlims!(0, 7000)\n",
    "    ylims!(0, 3000)\n",
    "    return p\n",
    "end\n",
    "\n",
    "function plot_lander(land, landing_site, X, thrust=nothing; animate=false, step=10)\n",
    "    if animate\n",
    "        p = @gif for n=1:10:size(X, 1)\n",
    "            plot_surface(land, landing_site)\n",
    "            plot!(X[1:n,1], X[1:n,2], c=:blue, ls=:dash)\n",
    "            scatter!([X[n, 1]], [X[n, 2]], c=:blue, ms=15, marker=:^)\n",
    "            if norm(thrust[n,:]) != 0\n",
    "                plot!([Xs[n,1], Xs[n,1] - 100*thrust[end,1]], \n",
    "                      [Xs[n,2] - 100., Xs[n,2] - 100. - 100*thrust[end,2]], \n",
    "                      linewidth=10, color=:red)\n",
    "            end\n",
    "        end\n",
    "    else\n",
    "        p = plot_surface(land, landing_site)\n",
    "        plot!(X[:,1], X[:,2], c=:blue, ls=:dash)\n",
    "        scatter!([X[end, 1]], [X[end, 2]], c=:blue, ms=15, marker=:^)\n",
    "    end\n",
    "    return p\n",
    "end"
   ]
  },
  {
   "cell_type": "markdown",
   "metadata": {},
   "source": [
    "The `plot_surface()` function provided can be used to visualise the terrain. The flat landing site is shown with a dashed line. Try it out as follows:"
   ]
  },
  {
   "cell_type": "code",
   "execution_count": 3,
   "metadata": {},
   "outputs": [
    {
     "data": {
      "image/png": "[encoded data removed]"
     },
     "execution_count": 3,
     "metadata": {},
     "output_type": "execute_result"
    }
   ],
   "source": [
    "Random.seed!(123) # seed random number generator for reproducible results\n",
    "land, landing_site = mars_surface()\n",
    "plot_surface(land, landing_site)"
   ]
  },
  {
   "cell_type": "markdown",
   "metadata": {},
   "source": [
    "To simulate the lander we need to be able to tell whether a given point `X = [x, y]` is above or below this surface."
   ]
  },
  {
   "cell_type": "code",
   "execution_count": 4,
   "metadata": {
    "nbgrader": {
     "grade": false,
     "grade_id": "cell-3001fc998934e179",
     "locked": true,
     "schema_version": 3,
     "solution": false
    }
   },
   "outputs": [
    {
     "data": {
      "text/plain": [
       "interpolate_surface (generic function with 1 method)"
      ]
     },
     "execution_count": 4,
     "metadata": {},
     "output_type": "execute_result"
    }
   ],
   "source": [
    "function interpolate_surface(land, x)\n",
    "    i = findlast(land[:, 1] .< x)    \n",
    "    m = (land[i+1, 2] - land[i, 2])/(land[i+1, 1] - land[i, 1]) # gradient\n",
    "    x1, y1 = land[i, :] # point on line with eqn. y - y1 = m(x - x1) \n",
    "    return m*(x - x1) + y1\n",
    "end"
   ]
  },
  {
   "cell_type": "markdown",
   "metadata": {
    "nbgrader": {
     "grade": false,
     "grade_id": "cell-fb91d13bc0029e67",
     "locked": true,
     "schema_version": 3,
     "solution": false
    }
   },
   "source": [
    "**Question 1. (10 marks)** Look at the `interpolate_surface()` function defined above. What do you think it does? Write a short description of how it works, suitable for inclusion as a comment in the code."
   ]
  },
  {
   "cell_type": "code",
   "execution_count": null,
   "metadata": {
    "nbgrader": {
     "grade": true,
     "grade_id": "cell-5c502ad7e44c0874",
     "locked": false,
     "points": 10,
     "schema_version": 3,
     "solution": true
    }
   },
   "outputs": [],
   "source": []
  },
  {
   "cell_type": "markdown",
   "metadata": {
    "nbgrader": {
     "grade": false,
     "grade_id": "cell-4454b0cfc6e61f90",
     "locked": true,
     "schema_version": 3,
     "solution": false
    }
   },
   "source": [
    "**Question 2. (10 marks)** Write a function `height(land, X)` which returns the vertical height of the lander above the surface of Mars defined by the array `land` when it has coordinates `X = [x, y]`. You will find your answer to **Q1** and the function `interpolate_surface()` useful.\n",
    "    "
   ]
  },
  {
   "cell_type": "code",
   "execution_count": 5,
   "metadata": {
    "nbgrader": {
     "grade": false,
     "grade_id": "cell-273c9e13ee9d3f92",
     "locked": false,
     "schema_version": 3,
     "solution": true
    }
   },
   "outputs": [
    {
     "data": {
      "text/plain": [
       "height (generic function with 1 method)"
      ]
     },
     "execution_count": 5,
     "metadata": {},
     "output_type": "execute_result"
    }
   ],
   "source": [
    "height(land, X) = X[2] - interpolate_surface(land, X[1])"
   ]
  },
  {
   "cell_type": "code",
   "execution_count": 6,
   "metadata": {
    "nbgrader": {
     "grade": true,
     "grade_id": "cell-24dfa319d17aec00",
     "locked": true,
     "points": 10,
     "schema_version": 3,
     "solution": false
    }
   },
   "outputs": [
    {
     "name": "stdout",
     "output_type": "stream",
     "text": [
      "\u001b[32m\u001b[1mTest Passed\u001b[22m\u001b[39m\n",
      "\u001b[32m\u001b[1mTest Passed\u001b[22m\u001b[39m\n",
      "\u001b[32m\u001b[1mTest Passed\u001b[22m\u001b[39m\n",
      "\u001b[32m\u001b[1mTest Passed\u001b[22m\u001b[39m\n",
      "\u001b[32m\u001b[1mTest Passed\u001b[22m\u001b[39m\n",
      "\u001b[32m\u001b[1mTest Passed\u001b[22m\u001b[39m\n",
      "\u001b[32m\u001b[1mTest Passed\u001b[22m\u001b[39m\n",
      "\u001b[32m\u001b[1mTest Passed\u001b[22m\u001b[39m\n",
      "\u001b[32m\u001b[1mTest Passed\u001b[22m\u001b[39m\n",
      "\u001b[32m\u001b[1mTest Passed\u001b[22m\u001b[39m\n"
     ]
    }
   ],
   "source": [
    "@test abs(height(land, [1, land[1, 2]])) < 100.0 # height when on surface left edge should be close to zero\n",
    "@test abs(height(land, [6999, land[end, 2]])) < 100.0 # height when on surface at right edge should be close to zero\n",
    "## BEGIN HIDDEN TESTS\n",
    "_land, _landing_site = mars_surface()\n",
    "_height(_land, X) = X[2] - interpolate_surface(_land, X[1])\n",
    "points = zeros(10, 2)\n",
    "points[:, 1] = rand(0:7000, 10)\n",
    "points[:, 2] = rand(0:3000, 10)\n",
    "for i = 1:10\n",
    "    println(@test height(_land, points[i, :]) == _height(_land, points[i, :]))\n",
    "end\n",
    "## END HIDDEN TESTS"
   ]
  },
  {
   "cell_type": "markdown",
   "metadata": {
    "nbgrader": {
     "grade": false,
     "grade_id": "cell-b206149110a9dc23",
     "locked": true,
     "schema_version": 3,
     "solution": false
    }
   },
   "source": [
    "## Numerical Solution of the equations of motion\n",
    "\n",
    "You are provided with a function `simulate()` which solves the equations of motion for the Mars lander using the semi-implicit Euler method presented in Lecture 4. It takes the initial position of the lander `X0` (2-element vector for `X` and `Y` coordinates), its initial velocity `V0`, and the array `land` and integer `landing_site` returned by `mars_surface()` as arguments. The horizontal and verticals accelerations of the lander are given by\n",
    "\n",
    "$$\\ddot{x} = P \\cos \\theta$$\n",
    "$$\\ddot{y} = -g + P \\sin \\theta$$\n",
    "\n",
    "where $g$ is the accleration due to gravity and $\\mathbf{t} = (P \\sin \\theta, P \\cos \\theta)$ is the thrust provided by the thruster with power $P$, $0 < P < 4$ at angle $\\theta$, with $-90^\\circ < \\theta < 90^\\circ$.\n",
    "\n",
    "Additional optional arguments can be used to specify the amount of fuel, timestep `dt`, maximum number of steps `T`, whether to enable an autopilot to control the thruster power (not used initially, see below) and how often to print output.\n",
    "\n",
    "Compare this code to the `symplectic_euler()` function given in Lecture 4 - the only differences are in initialisation, autopilot (see below) and error checking, with the core algorithm unchanged."
   ]
  },
  {
   "cell_type": "code",
   "execution_count": 7,
   "metadata": {
    "nbgrader": {
     "grade": false,
     "grade_id": "cell-dfae72388ef16749",
     "locked": true,
     "schema_version": 3,
     "solution": false
    }
   },
   "outputs": [
    {
     "data": {
      "text/plain": [
       "simulate (generic function with 1 method)"
      ]
     },
     "execution_count": 7,
     "metadata": {},
     "output_type": "execute_result"
    }
   ],
   "source": [
    "g = 3.711 # m/s^2, gravity on Mars\n",
    "\n",
    "function simulate(X0, V0, land, landing_site; \n",
    "                  fuel=200, dt=0.1, Nstep=1000, \n",
    "                  autopilot=nothing, print_interval=100)\n",
    "    \n",
    "    n = length(X0)       # number of degrees of freedom (2 here)\n",
    "    X = copy(X0)         # current position\n",
    "    V = copy(V0)         # current velocity\n",
    "    Xs = zeros(Nstep, n)     # position history (trajectory) \n",
    "    Vs = zeros(Nstep, n)     # velocity history\n",
    "    thrust = zeros(Nstep, n) # thrust history\n",
    "    success = false\n",
    "    fuel_warning_printed = false\n",
    "    rotate = 0           # degrees, initial angle\n",
    "    power = 0            # m/s^2, initial thrust power    \n",
    "    \n",
    "    for i = 1:Nstep\n",
    "        Xs[i, :] = X     # Store positions\n",
    "        Vs[i, :] = V     # Store velocities\n",
    "        \n",
    "        if autopilot != nothing\n",
    "            # call user-supplied function to set `rotate` and `power`\n",
    "            rotate, power = autopilot(i, X, V, fuel, rotate, power)\n",
    "            @assert abs(rotate) <= 90\n",
    "            @assert 0 <= power <= 4\n",
    "        \n",
    "            rotate_rad = rotate*π/180.0 # degrees to radians\n",
    "            thrust[i, :] = power*[sin(rotate), cos(rotate)]\n",
    "            if fuel <= 0 \n",
    "                if !fuel_warning_printed\n",
    "                    println(\"Fuel empty! Setting thrust to zero\")\n",
    "                    fuel_warning_printed = true\n",
    "                end\n",
    "                thrust[i, :] = 0\n",
    "            else\n",
    "                fuel -= power*dt\n",
    "            end\n",
    "        end\n",
    "        \n",
    "        A = [0, -g] .+ thrust[i, :] # acceleration\n",
    "        V += A * dt                 # update velocities\n",
    "        X += V * dt                 # update positions\n",
    "        \n",
    "        if i % print_interval == 0 \n",
    "            @printf(\"i=%03d X=[%8.3f %8.3f] V=[%8.3f %8.3f] thrust=[%8.3f %8.3f] fuel=%8.3f\\n\", \n",
    "                     i, X[1], X[2], V[1], V[2], thrust[i, 1], thrust[i, 2], fuel)\n",
    "        end\n",
    "        \n",
    "        # check for safe or crash landing\n",
    "        if (X[2] < interpolate_surface(land, X[1]))\n",
    "            if !(land[landing_site, 1] <= X[1] <= land[landing_site+1, 1])\n",
    "                println(\"crash! did jot land on flat ground!\")\n",
    "            elseif rotate != 0 \n",
    "                println(\"crash! did not land in a vertical position (tilt angle = 0 degrees)\")\n",
    "            elseif abs(V[2]) >= 40 \n",
    "                println(\"crash! vertical speed must be limited (<40m/s in absolute value), got \", abs(V[2]))\n",
    "            elseif abs(V[1]) >= 20\n",
    "                println(\"crash! horizontal speed must be limited (<20m/s in absolute value), got \", abs(V[1]))\n",
    "            else\n",
    "                println(\"safe landing - well done!\")\n",
    "                success = true\n",
    "            end\n",
    "            Nstep = i\n",
    "            break\n",
    "        end\n",
    "    end\n",
    "    return Xs[1:Nstep,:], Vs[1:Nstep,:], thrust[1:Nstep,:], success\n",
    "end"
   ]
  },
  {
   "cell_type": "markdown",
   "metadata": {
    "nbgrader": {
     "grade": false,
     "grade_id": "cell-f38d7aac7f88d940",
     "locked": true,
     "schema_version": 3,
     "solution": false
    }
   },
   "source": [
    "Let's try it out for a simplified case where the lander starts directly above the landing site and the thruster is not used:"
   ]
  },
  {
   "cell_type": "code",
   "execution_count": 8,
   "metadata": {
    "scrolled": false
   },
   "outputs": [
    {
     "name": "stdout",
     "output_type": "stream",
     "text": [
      "i=100 X=[5162.000 2812.595] V=[   0.000  -37.110] thrust=[   0.000    0.000] fuel= 200.000\n",
      "i=200 X=[5162.000 2254.089] V=[   0.000  -74.220] thrust=[   0.000    0.000] fuel= 200.000\n",
      "i=300 X=[5162.000 1324.484] V=[   0.000 -111.330] thrust=[   0.000    0.000] fuel= 200.000\n",
      "crash! vertical speed must be limited (<40m/s in absolute value), got 117.63869999999959\n"
     ]
    },
    {
     "name": "stderr",
     "output_type": "stream",
     "text": [
      "┌ Info: Saved animation to \n",
      "│   fn = /home/maths/masqhp/.iatl/modules/IL027-dev/IL027-dev/InterdisciplinaryComputing/L4/tmp.gif\n",
      "└ @ Plots /opt/julia/share/site/packages/Plots/qZHsp/src/animation.jl:98\n"
     ]
    },
    {
     "data": {
      "text/html": [
       "<img src=\"data:image/gif;base64,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\" />"
      ],
      "text/plain": [
       "Plots.AnimatedGif(\"/home/maths/masqhp/.iatl/modules/IL027-dev/IL027-dev/InterdisciplinaryComputing/L4/tmp.gif\")"
      ]
     },
     "execution_count": 8,
     "metadata": {},
     "output_type": "execute_result"
    }
   ],
   "source": [
    "X0 = [(land[landing_site+1, 1] + land[landing_site, 1])÷2, 3000]\n",
    "V0 = [0.0, 0.0]\n",
    "Xs, Vs, thrust, success = simulate(X0, V0, land, landing_site)\n",
    "plot_lander(land, landing_site, Xs, thrust, animate=true, step=10)"
   ]
  },
  {
   "cell_type": "markdown",
   "metadata": {},
   "source": [
    "We get a crash landing as the vertical speed exceeds the maximum acceptable value of 40 m/s."
   ]
  },
  {
   "cell_type": "markdown",
   "metadata": {
    "nbgrader": {
     "grade": false,
     "grade_id": "cell-d5d6e1b768d66f54",
     "locked": true,
     "schema_version": 3,
     "solution": false
    }
   },
   "source": [
    "**Question 3. (20 marks)** Calculate the potential energy and kinetic energies of the lander during this trajectory via the expressions\n",
    "\n",
    "$$V = mgh$$\n",
    "$$T = \\frac 12 mv^2$$\n",
    "$$E = T + V$$\n",
    "\n",
    "where  $V$, $T$ and $E$ denote the potential, kinetic and total energies respectively, and $m=100$ kg is the mass of the lander, $h$ is its height and $v$ is is speed and $g$ is the acceleration due to gravity (3.711 m/s$^2$ on Mars),\n",
    "\n",
    "Adjust the timestep `dt` passed to `simulate()` to ensure there is less than a 0.1% drift in the total energy over 1 second of simulated time, i.e. $\\Delta E/E < 10^{-3}$ . You may find it helpful to plot a graph of the relative error in `E` as a function of time. \n",
    "\n",
    "To pass the tests you must store the time in an array named `t` and the total energy in an array named `E`. \n",
    "\n",
    "Here's some skeleton code to get you started:\n",
    "\n",
    "```julia\n",
    "m = 100. # mass of lander in kg\n",
    "dt = 1.0 # timestep, you'll need to adjust this\n",
    "Nstep = Int(1.0/dt)+1 # number of steps required for 1 second of simulated time\n",
    "\n",
    "# run the simulation\n",
    "Xs, Vs, thrust, success = simulate(X0, V0, land, landing_site, dt=dt, Nstep=Nstep)\n",
    "\n",
    "t = ...\n",
    "V = ...\n",
    "T = ...\n",
    "E = ...\n",
    "```"
   ]
  },
  {
   "cell_type": "code",
   "execution_count": 9,
   "metadata": {
    "nbgrader": {
     "grade": false,
     "grade_id": "cell-c12969e502be939b",
     "locked": false,
     "schema_version": 3,
     "solution": true
    },
    "scrolled": false
   },
   "outputs": [
    {
     "data": {
      "image/png": "[encoded data removed]"
     },
     "execution_count": 9,
     "metadata": {},
     "output_type": "execute_result"
    }
   ],
   "source": [
    "m = 100. # mass of lander in kg\n",
    "dt = 0.1\n",
    "Nstep = Int(1.0/dt)+1 # number of steps required for 1 second of simulated time\n",
    "Xs, Vs, thrust, success = simulate(X0, V0, land, landing_site, dt=dt, Nstep=Nstep)\n",
    "\n",
    "t = [dt*(i-1) for i=1:size(Xs, 1)]\n",
    "V = [ m*g*Xs[i, 2] for i=1:size(Xs, 1) ]\n",
    "T = [ 0.5*m*norm(Vs[i, :])^2 for i=1:size(Xs, 1) ]\n",
    "E = T + V\n",
    "plot(t, abs.(E .- E[1])/E[1], label=\"Total energy drift\")"
   ]
  },
  {
   "cell_type": "code",
   "execution_count": 10,
   "metadata": {
    "nbgrader": {
     "grade": true,
     "grade_id": "cell-cecfe41a7cacfeaa",
     "locked": true,
     "points": 20,
     "schema_version": 3,
     "solution": false
    }
   },
   "outputs": [
    {
     "name": "stdout",
     "output_type": "stream",
     "text": [
      "\u001b[32m\u001b[1mTest Passed\u001b[22m\u001b[39m\n",
      "\u001b[32m\u001b[1mTest Passed\u001b[22m\u001b[39m\n",
      "\u001b[32m\u001b[1mTest Passed\u001b[22m\u001b[39m\n",
      "\u001b[32m\u001b[1mTest Passed\u001b[22m\u001b[39m\n"
     ]
    }
   ],
   "source": [
    "println(@test t[1] == 0.0)\n",
    "println(@test t[end] >= 1.0)\n",
    "println(@test length(t) == length(E) == Nstep)\n",
    "println(@test abs(E[end] - E[1])/E[1] < 1e-3)"
   ]
  },
  {
   "cell_type": "markdown",
   "metadata": {
    "nbgrader": {
     "grade": false,
     "grade_id": "cell-1023f852fab0d1c2",
     "locked": true,
     "schema_version": 3,
     "solution": false
    }
   },
   "source": [
    "## Designing an autopilot to control the lander\n",
    "\n",
    "To control the lander, you need define a function `autopilot()` which accepts 5 arguments: \n",
    "\n",
    "- `i` is an integer giving step count - e.g. useful for printing debugging inforation every 100 steps.\n",
    "- `X` is a 2D vector containing the current coordinates of Mars Lander (in meters).\n",
    "- `V` is 2D vector containing the horizontal and vertical speed of Mars Lander (in m/s). These can be negative depending on the direction of the lander.\n",
    "- `fuel` is the remaining quantity of fuel in litres. When there is no more fuel, the power of thrusters falls to zero.\n",
    "- `rotate` is the angle of rotation of Mars Lander expressed in degrees.\n",
    "- `power` is the thrust power of the landing ship.\n",
    "\n",
    "Your function must return two integers `(rotate, power)`, where\n",
    "\n",
    "- `rotate` is the desired rotation angle for Mars Lander, in degrees. \n",
    "- `power` is the desired thrust power. 0 = off. 4 = maximum power. \n",
    "\n",
    "Here is a template `dummy_autopilot()` which does nothing - note that this will invariably lead to a crash landing!"
   ]
  },
  {
   "cell_type": "code",
   "execution_count": 11,
   "metadata": {},
   "outputs": [
    {
     "data": {
      "text/plain": [
       "dummy_autopilot (generic function with 1 method)"
      ]
     },
     "execution_count": 11,
     "metadata": {},
     "output_type": "execute_result"
    }
   ],
   "source": [
    "function dummy_autopilot(i, X, V, fuel, rotate, power)\n",
    "   return (rotate, power) # do nothing\n",
    "end"
   ]
  },
  {
   "cell_type": "markdown",
   "metadata": {
    "nbgrader": {
     "grade": false,
     "grade_id": "cell-36b8bb92587112f0",
     "locked": true,
     "schema_version": 3,
     "solution": false
    }
   },
   "source": [
    "Pass the `autopilot` function as an extra argument to `simulate()` to turn it on - be sure to use the timestep `dt` that you determined in Q3:"
   ]
  },
  {
   "cell_type": "code",
   "execution_count": 12,
   "metadata": {},
   "outputs": [
    {
     "name": "stdout",
     "output_type": "stream",
     "text": [
      "i=100 X=[5162.000 2812.595] V=[   0.000  -37.110] thrust=[   0.000    0.000] fuel= 200.000\n",
      "i=200 X=[5162.000 2254.089] V=[   0.000  -74.220] thrust=[   0.000    0.000] fuel= 200.000\n",
      "i=300 X=[5162.000 1324.484] V=[   0.000 -111.330] thrust=[   0.000    0.000] fuel= 200.000\n",
      "crash! vertical speed must be limited (<40m/s in absolute value), got 117.63869999999959\n"
     ]
    },
    {
     "name": "stderr",
     "output_type": "stream",
     "text": [
      "┌ Info: Saved animation to \n",
      "│   fn = /home/maths/masqhp/.iatl/modules/IL027-dev/IL027-dev/InterdisciplinaryComputing/L4/tmp.gif\n",
      "└ @ Plots /opt/julia/share/site/packages/Plots/qZHsp/src/animation.jl:98\n"
     ]
    },
    {
     "data": {
      "text/html": [
       "<img src=\"data:image/gif;base64,R0lGODlhWAKQAfcmAAAAAAAACwAAEQAAIQAAMwAAQQAARAAAVAAAVQAAZgAAdgAAegAAiAAAmQAAqgAArwAAtAAAuQAAuwAAvgAAxAAAyQAAzAAA0QAA1gAA2gAA2wAA3QAA5wAA6wAA7gAA8gAA9gAA9wAA+AAA+QAA/AAA/wD/AAEBZwEBpAEBpgICAgICnQMDlQQESgQEjwQE9gUFKAYGhgYGiwgICggIOAgIhgsLCwsLgAsLgQwMDAwMgQ0New0NgQ4OPQ8PDw8PehERERERSBMTExMTRhMTeRUVdhYWFhcXcxcXeRgYGBgYUxoaGhoaOxoadBsbXh0dVB4eXB4ech8fHyIiIiIicyMjZyQkJCQkbyUlcSYmaygoKCgocCkpKSoqKisrZSsrbywsLCwsbC0tcS4uai4ucC8vLzExMjMzMzMzbjMzbjQ0cTc3bDc3bzc3czg4ODs7cTw8PD09bz4+bT4+cD8/c0BAQENDpUREREREcEZGRkZGdEhIdUlJSUpKb0pKcEtLS01NTU1NdU5Oc09PT1FRUVRUVFZWVlZWdVZWeFdXV1dXeVlZWVtbW1xcdV1del5eXl9fX2BgYGJiYmJifGZmZmdnZ2dngWpqamxsf21tbXBwcHFxhHJycnNzgXNz2HV1dXd3d3d3iHl5eXp6iXt7e35+foGBgYGBjYGB1ISEkIWFhYWFj4iIiIqKio6Ojo6Ok46Ol5CQkJGRlpKSkpSUlJaWlpaWm5eXnJiYmJiYm5qampqanpubwZycnJ6enp6eop+f06GhoaGhpKGh0qKioqSkpqenp6qqqqqqq6qq0K2trrGxsbOzzrS0tLi4uLu7u729vb+/v8HBwcPDw8bGxsnJyczMzM7Ozs7O2NHR0dPT09bW1tfX19fX2tjY2Nra2tvb3N3d3d/f3+Hh4eLi4uPj4+Xl5efn5+np6erq6uvr6+zs7O7u7u/v7+/v8fDw8PHx8fHx9fLy8vPz8/T09PX19fb29vb2+vf39/j4+Pr6+vv7+/z8/P39/f7+/v///yH/C05FVFNDQVBFMi4wAwEAAAAh+QQFBQAmACwAAAAAWAKQAQAI/wD/CRxIsKDBgwgTKlzIsKHDhxAjSpxIsaLFixgzatzIsaPHjyBDihxJsqTJkyhTqlzJsqXLlzBjypxJs6bNmzhz6tzJs6fPn0CDCh1KtKjRo0iTKl3KtKnTp1CjSp1KtarVq1izat3KtavXr2DDBq0maZAka//kkSJESl7atW3fsnUrtq7du3iX8htkrZ+0RP96zco3q1fgwYUPEzact7Hjx5Bl5qvmrx41Sf8gjfs3DlLmzZ0/c/YcubTp06g32rtzR9s/QPn+5QP0Ovbs2rJpG2wFqHdvQvqCCx9OvLjx48iTKx9eb7nz59CjF7eXT7r169j1Uc/OvTtyfNW9i/8XD144OGDo06tfL268++D58L2fbz1fv4/2il369yc2vj/8+Qdgf//8d5AKxhyjoIL4NOjggxBGKOGEFFZo4YPk0HPhhhx26CGE5sjz4YgklojPOe2YqOKKFKLDDoswxpiOOg3S00QJOOao445RaBjjj+yg8+OQJbYT20bm6CIQO7Q9Us4/5XjmJJRSPhnlgfwshU6WSqmjz1IvLvVOPUvJM49AwmCw45o6YoCMTfW8s5R8HOUziDb+KKPJP7X04k8vSvb5Z6B+Aoqlllwm5SWY+IhJplJm/sPPjWxWWkIU99EU55xfcpRNJYRkstk8pCRCCj3/kGoqqqqeeqhSWy7/tahSYSo1ZplnpmlppW7WtKlSdOqkQqJIxdplp0nVmtStkM4z6a6WYqqpnMAii9OwiMpq7VHKIsVsUmbqCi2bvc70a1LB5oQtrMQeNWuyjdr6KLjvUDoum9LKdC5S6V7brlHGKrqtUd0e9S1S8uSi5r3kvqkvtegOXNO6SQWM1LtIFWzUwUe1cwTD0WYK075H9XsTxcX+WxTG3Ma77LxIKQwyrw6PDDG/EtOE8lEWu5vzUBoXxXFR/Hw8c6X5vkSyUSbbtDPAKhPFMsEuewuzUeIevWa5St9c8s8yPV1Uz0ZNXVTQRA091LNaIy1yS0sX1fTEUQ9F9spgB4X2UGoL/5V12ztyDbfXTOcNk9hE3S214T/tLVTfQPEDhQWUV2755ZhnbgEUb68UN1Fz61y3UIoPZTZRjgcF+U/RnHFGGWa4LvvstNduOzVdc7oT4naPHtTpQFdt8NVGRarU50OFPhPvpPsOFPBCpQ7U6kEZnxTyQikftvM/lS4U9HoLvzHxRVmPFPZBaR8T80F5/zvjPkn/E/VAmX8U+kCpfzj3Prn/PPw9kZ9P6PcT+xkFfz/R30vYBxT//QR8QBFgTwjoEwMWBYE+UaBLGNg9/vUEgo0Tn9DIRxQLEgWDPdFgSzjYPw/yBITxE2HaSDgUEw4FhTxRIUtY2BMH+gSGAZQh3/9oKBQbCgWHO9HhSnjIEx9+EIA8kSBPKNgTIwYFiTpRokqYuBMnvhCKO5HiTqjIEysCBYs50WJKuKgTL+4EiFEU4uOIWL0zHY9wcgPjFl3YRT7qBI5hlKPq6Fg/O14Pj6DT4xr9mBM3/lGROBGjTsi4EzP+BI04USNK2NhIRuIEkDqRZE4oqRNL+gSTN9HkSTiJE0fmBJQ5ESVOSJkTU/YElTZRpUlYeRNXfhKSN5HlTWiJE1vyBJc10WVJeGkTX94ElpEU5PQIWUBDng+RyQPmLj3ZS27aBJrBlOb8qFlBa94Pm9nT5jK9WRNnflOdNBGmTYh5E2PuBJk0USZJmNn/TnbSBJw2kWdN6GkTe+oEnzPR50j4SRN31gSgNREoTQhaE4PmBKEyUahIGDoTh/4TnjOR6EwoShOL4gSjMdFoSDgqE4/OBKLxFOcAyVlFcx4QnekD6Ub92VGeygSmIZXpBGlaRpteEKf50+lKfRoTl/5UqTARqUxIOhOT3gSlMFEpSFjaVKbCBKgykWpMqCoTq8IJqQmE6ke4ChOnxgSsMRErTMgaE7P6Cq0ZVKtH2PoSt35Vry2R60voChO7Tkt3wvJqXxXrErhGVahTJGoljXpCvKYQsBzhq0v8+hLHvkSwLiHsSwxrLsvmELMb0WxLONtY1KoEtC0RrUtI+zDE/6qLsavFLUs86xLYskS2LaFtTLD6Eq2uVbcrYW1LeBtYyI5RsqWk7A1Nm0TXZkS1LFHubq2LEt+uBLgsEa7NbOuvbB2LUY7C1VKI6xLj7hW5KtHuSpjLEu+qBLwrEW/uqrU7+KZEviqh70rsmxL8qkS/LmFvS9zbEewm178oEfBrnTtJ6NZSukekbha5exEHxxfCJ5FwSgiMEgOnBMGDI+/JQGwSAKdExN2l8CgtXEwMX1HDaeSwRTz8XxaXBMYnIfFJTIwSFLNEwSxhcGZ9TBIXR1jHJRGySYh8EiN7DseZhDJFeIwSJ4dYyyORckmobBIrqwTJK1Fyapk8Ei+bBP/IJhEzSchcEjOnBM0qUbNGuHwSN/8YzCKR80joTBI7owTPKdHzddksEj+TBM5RlvEsaVxPG58Ry6kEdET43GJGhwTSJBG0SAg9EkOfBNEoUTRGOF0SR48E1GGW9DApXVBLXxLTudQ0RFjdZE+DBNaBlvU8aV1RW58S18nU9UN43WZffwTYIRF1SEgtElObBNUnUXWHne0RV4sE2iCRNkioHRJrlwTbJtH2jrndEW9/WtkeEfdHyA0Sc5ME3SVRd0WY3Wh2cwTcH5G3R+j9EXuPBN8k0feW/b0Rd/8a3h0ReEcI7hGDiwThI1H4RPgdEoc/G+IckThHKN4Ri4cE4yL/0bhEOA4Sj3sE4PEW9kCJXVJj3xLZ+QT5Qlj+EZd3BOYRl/lEaV5Vmx8T5wnVuUJ43m2GawToIRf6SIleVqPfE+kZVXpCmN5up2cE6hsR+UZIzhGTgwTlIVH5pr2OEZ//W+sYEbtGyL4Rs38E7SBR+67ZfhG3bwTsGpF7RuiuEbt7BO8f0fuy+W4Rvz8d7hcRPEYInxHDdwTxHlG8Q7jOEcd/HfIWkfxFKI8Ry3ME8x3RfEM433DGVwTwGRG9RUh/EdNvBPUcUT1DWK8Rz2ME9nGX+lSpXlerHxTrKQV9QXifEd9fBPiRF/5YiV9Y418U+VlVPkGY33bXUwT6oZf+/1ypP1rrnxT7xdX+QLjfd+9PBPwVkX1FaG8R22sE9xvR/c7dLxHnWwT+FCF/FEF/FWF/GYF/GqF/S8d/EeF/r6d+EiGAE0GAFGGAGIGAGaGAW8eAEOGA3weBESGBEkGBE2GBF4GBGKGBCMF+jceBDwGAEyGCEUGCEmGCFoGCF6GCr1IxLugQMBiB4jdY5Ddb5ndV6NdeIMiCFeGB7weCECGDEEGDEWGDFYGDFqGDBqGEFMGEEvGDIRiEoTWEwVWEZ6ViTtODDcGFEeGFTwiGsSWG4UWGd2WGdGNeAoNe8qJed0SHomOHF+OEDwGFDyGFEEGFFGGFFYGFy4eGDKGGEP/BhoHohr8Fh/klh4fFX4nlhz6Dhy+jh4fEh8vDiAvhiC8IiA4hiA5BiA9hiBOBiBShiNsnigpBij5oig2Big2hig7BihLhihMBi+sniwlBiw0Biacoid9FiQdmiaUFitujiWVjiwyBiwyhiw3BixHhixIBjAKhhRNBjAxhjLeIjPeljCfGjLWFibcFjXjDiVbjidfkjOsjjAgBjgshjtNIjgVmjkWGjsN1hAuWhPR4EPaoEPi4ENS4ENbIENgIEdoYEdz4D97YfwNpEAepEAmpEAu5EA35EA8JERE5kQ1YkQVxkQmRkQmxkQrRkQ7xkQ8RkiRJEAWZECaJECiJECr/mRAs2RAu6RAwyY6L447DA4/nJI/7A5SmI40IqY8lxo9V5o/jpY7lxS7aIpTjQ5Q3ZZQLFJMDMZMIUZMHcZMHkZMIsZMM0ZMN8ZNUeV60wpRD5pRlBpX7FTH9hZTfo5QY6ZZTBpd1JpcJBpBJJpB2+T5WOUJYeVRauUFcKRBeeRBgaRBiaRBkeRBmuRBoyRDGNQ1loQlPohZzIRdx4ZlxkYWL+Q+NaZF4eZJ6OWZ8WWh+mWJSiRHmAAjckA/HkAmKkRiCsRi5yRiLOJj/U5gzdJiVlZgOYQ2xIBDtQAiiERqaMRrNSRq/uZZ32Jbp1SzrBZhpBlj8EAuzgBu3ARu5/wGeurF8vvEb7JCe6rme7Nme7vme8Bmf8rme3qAO83mf+Jmf+sme4OAi+/mfABqg4nAOAVqgBjqf4mAOB7qgDKqe5FAODRqhBmoO4iChFvqf5wCG1lAJvZAlBGIgHzogAnIgxFAMJloMxkAkKmohGbKiLnohIfKiMjohKDKjNvogLnKjOjojOnqjQdKjNmokHOEPusCZAzElV4KkVUIlO5gyVWmdeYidexibF5ENkTAP9pClfFIohDIoW+qlpAmcD5SaNrmac9aapfaaR6adeQZVwcAacJoqpeIqrcIqc4oqYUqdfyicQ0Sc02WcO1Sap1mSZBqWZjpoaFptanplgP+6RIJamo9ZEJFZEJNpEJWpEJe5EGrJg08KL9cJLot6ZmyaaIKpp5sIpZ0opZ9IpXVoqtHIp3PkpxnWqHskpj9UqJB5qKOWqOUWqnc2qqlWqpzKlp4apaCanbS6SLb6RLA6SLJ6Y8m6SY/aqRmjq9PGq/Xmq4cGrNkmrE5KrNX6qQijrafGrenmrTwDqbgqqdY6bthacOR6beaab+gKNdTaMuJ6FJeaEJmqEJv6rdVZrKl6rFNKl5noqu2Iqu+oqvHIqn2IsEGpsEPJsEXpsKG4rF/UrNP0rJcWras0reCKr8Y6rshqsc8IsUmpsePEsbfmsduEsW+0rgQxqQRRqQX/sa8I0a8J8a/peq9Uk6/FE6/nNq8JV69jo64qO1Mse2wuu04w+0hJO1RLe3NNu08gG7DhOrL6KrT3RrQZZ7SJg7QSe5UUm5UmO49P+0oyOxA0OxA2SxA4exA6ixA8a68h+7NaG7Qla7DriLJ3GbWRNbVHV7ULdbV7OraGWbaIebZH6beEibjDqbjFybhbmba/BLjPJbhXR7g7ZbnPtLZL0q7z9q4Vx7UH57UpB7a947NnI7oDR7olZ7oXh7ppp7rNw7qo47oTB7tlJ7snR7t5Z7vtI7YCu7AEu6p8O5XDirUiO7AkW7A4U5eOG5yQ26eS+6eUq5ie+06YW2Gae3yc/7tU2/tQoPsPbSsQbzsQcWsQc3sQdXu0uBs8QFs+vnt2wJt4wttAxJu1zru1exu9B7u8h1u8E3u8DZu8Kza+H9W9M/a91xe+W2W4p0rAZGvAFYvAZ6jAL1W+5/sP6SsQ61sQ7WsQ7xu28Rs9ujtyvFt39Xt395t5+dtBJxw+81tCLXx4L5x6MdxCMxxBKTx2K1x4N3x5OZx7O9xD+9u8xvu8yAvAfSvAE8y/S+y/0Ps10gvFr1q9sXq9s5q9KyTBWUzBiWvBZovBrYrFCSvGkUvGi2vGD4vGEavG1svGk+vGFzu9Y8rAk+bA5wfBx6XBT6XHs8bHRujH7wXIb8XBP/88d0FceUN8ekWcf0fcREmMt/2rt1VcOFcMsAMsxQXMxAfsxMrLyVGsxJ9MxU1sxQFMymHsyRUMyhcsygmMx7cqyMNGyGXoxYGKyH9lyzOHy3Ooy47Ky52lyDVcQ498e5GcgJPcRz0cQsdcRMl8f8ucgc3cRgxXDJ9HEssQZ4s8eI1cetN8gNWcgtfcSVElBPAkYvkgBfYQadFcR/+ryk/MyiphCgBwDb9nXdYAAL4Az3lLv/Osyavcsy5hD0kAB0ryfNalC1ZQBgB9yQKdyXm0yQbdErVACLRACfs8EpRAC1wgDaH2zZMXzrU3zhdYzjl4zq3EbfxgBdRQDWbQ0SL/UQbVkNEjHc+FNNAVXdB2yxLIAAcFYgMyJ2H4YAP5UA9CIA6xptPVxNOJZNE/vRJu0M3/YAbVwNAiQQ1nIBCc8AlNHdA2DNXZJNXwyxLRoAWZQgm1oNUhMQuVIBDiIAR4Gm4kPXomXX8ofYIqfYUs3U0twQe+qQuY8X+uBQm+SQi4EGxOXU5knU5mbcIrsQ1J4DLWAAZuDRJdoM8CEQ1d4A/Rdtezl9cFuNc32NeJ+NfN5GuQwAoEoQ85UNdNGBLzYAPWUgbPENqNXVOPnVORvboqYQ5C0A4F4QbTYNghMQ1uUBC9UJ4xt9tF1dtJtTvOQMwO8QmcYBCXkJwPGBKx/7AfBGEPRgAOdg3dkyXdabU7RpDVcDxqQkAOBuELjIDcIMEI/1wQoLAnASfa80faFWjaVYjar5iEzmAE2dDeIcEKj3AQ2sAF9P0RVrANBiHcANnBH5wWAH6IAv6LAmkMS8DUF20S+bAEnF0Q/JAD8NDd8+YDKmMI3/ncYo3M6J1XdVkLVnAOIV4SvcAHCQEH0aDiHvEMQn0Q02AFnRN7/D2A/l2CGd6KG76NpWoKYMAOU00S/tAFP44QmtAKQN4RrJDdCHEGzQDjEj3WFB3VAcwJbiDbw4sSy9DVCUEMi9DlHGEI2owQwZAHZD7FmJzKBP3E/hAJgLAPkm0ScHAMCv/BDVZA5xsxBd6QEPmQBK4RdeYdXTN+WZvMD4TACEeOxCdRDVMwOv7gA+vwgQHnA50+EKUA3mGX5BO45DXY5L345BCJrvYAB7h5uyZBCG29EHWQ27PtEc5wB6MIBFTe6pV+YZd+WlIND2ZgCrpOEt5gBGx+EJ+gCqbuEaYACgzBCFyO7DEuzcteXWadDlrA3TJcEpQA7QxhDIWQ7R1BCIi+ENYgBUxl4bA+hbKejbQOkmBLDlJgDPrbakKgDg0BDlIA7xzx4Q3hBsoA7mUu42de1j49ENqQBGPOwyRBCrnOEP4gBOgQ7BxxDkIA2u1eBxDP5xPt5z1dzwZRDUZw3J7/PhL0MN4PkQcZv4Z6tQw83hD7IAUlHn3JXmPjvmG/LRDPYARBj84j4Qpz/hCiwO467xGlQAoPoQqFHXxDX2lFn2NHLxDKkASP7swioQ9SgBYPoQzOXYoe8QcP74M+EPJaH+7yPPGQXfEGYePmQPYhQQzEDhHjkAQivxFJsPcPIQnYPvcRL+5279t4bxCmUAbH3tIjYQbVHRFGYPiPqFbkIPgQoQ1LAE/4DsyXaMcn2xBqXu09JRLOUAYmDxF8YNWb3xFqLxF1IPBCT/c73fjT/fgG4Q+SkAdHstoicQfEMBGlUApdqFakIPVpv9y5v/h1z/Jo7vILwQ+FsAipvlgh/5ENUjD8EMHzy98ROC8R/DAF7B1/rj6C+V6I++6Q/f6SzWwPddDxDYVci+AKFGEORjD+APFP4ECCBQ0a9Cfk3EGGBFsxahiRIDt8Ei3me5ZRI7qB2jRmtDaQ3ceM9gZOIwluoDiS0Qaqa0aSo0CPH0MKHEnSpECUH1UKZPnRpUB9JJ/N/FdT481/OZ8tW/Zs57+eGn/+C6px6L+iMjuSZOpU49SqGa9mzeiy3ruuH5EqBSnSKNmUK1sObLvxq025zeRZBBxYcEEV/AYLfGfG1GHGjdEZbmxRnJF5kf8tEXdYnT7LB8VJ8deYHZCFlil2ZmcGzh3WrKUNNNWaNaiB1v9kszY38NHtXgON3SY00Fyd268FxpZNW6Dt27kF7pbdW+Bv2cEFzrt9x/g/5K2V/2N+pw5x5/+gt5b+j3pr6/+wF4d9+3v41uXPs06/nnXwte9lb+9uttqys48334AbyL/WAJRvwDvK6yxCiQprLB0tXJEwQ4Ie09CgTEjpbBBlNOOsQ2PaY6ySUlCrKDJ++PikQwnfqUdGGxmTp7IbdwRsLR5/jAifEoGMkMLGyJHCFyIP4/BGdoSAkDFTvgtsMxk/UcUyb5JoUbQuGcskD8iWBIxGMs/M8UwyfVSTSCHbbMzIxrxZohk4I2rSRlMoibCZPEiUsQ5nOssjGNO+HCz/GC3auTMiMxvdMU1Ib2RzUhnftNQiORurxohpMh0ozw7rMWKbCNUBIjTBrNTQHx/W6awZMw5tjJpSQS3oUVwllHTXCCv11TJMgyVszMigMeIaXEXVkBYULZPiKsBYzdAbKyL0R4tPvWRsnCTsJFZXYhvrdVzGgDV3sGHT3TQyZZbwBlRmJeTHCmoyLMSYwaiVkJhEJJzFkMhOG8yeM2IxV9x0BSt34cDQddiidc1tN7JgrIjyznkjPAYODVmJcdUhJdSkFV6FIIdbwfxJ5JF0FY5YooZjjghimhmaeNyKI1MFDHYs3bgzN5bR8Jk69h05Qji26kwTUVQOrBQ4EPUV/+abD5r5aoNs1pqgnIndObJP3NCx0aAji0aLfjR8x4e1q0zaMn5yYFRCcISo8TCCAXs346rz7pqhrAMXiGvCvw427Mb8keSOfCA9uzE+0svQClPh1lAbLToEhPLA9pYoGyGqcdhqwv8ZnHDDA0fcV8Ub46cQQoxVM/LDtOFSxkWIEVlDXyAqugtVBQO9oXWs0Ld0wE8nKPXAV++6dbkjEUgeUggh5S/rsdf++uwZer2xfPKoxGzaO3vEZBlb0aT3DC9BuEMwmAas+IP0qWPFiE0n3Pmuodea9BqjjEvcQSC9mEU+ZtEbBCqQgQlcIPjOx6sz6K9NthNMOYRQtw5FA/8Ow5MIv4S2LQ3V4lkWsZ9BKEGItymPeQbxn9YAeDUBMuYa1DDgPyAxjn+MAxI65KEPgdjDHx4kfJFRBxcwdMEJNoYTIZPRPHKwD8xJSB85oIeMSBWOwaSQILPoAjxoxr/AxfBqM7xZDRuTQ0A8Lh+A+Ecb//HGOLoRjkYkRB7zWAh29NGPfwRkIAOpDSnMQpCHRGQiA+kNdSjSkX0chxC08UhK/tEK06AkONBRyURGowucpGQmLsFJcZwjkcowgjVAuUpWHlIc5mhlLGXpSHKUY5a3xKUfzSGOXPZSluegWoZy+IfH4eMP/yDmP4yJzGIe04i+CEY0g0EMfFTTmtf/xGY2tYk7Y2jTm98EJzbJQY9wlrOapniEOdWJzUXgQp3mkMc6wUmLdMrTnN/wATrWeY52fJMbSXCGPQU60G9ukqAHRWg506GOhDbUodZkhz4fOtGDtuNxN8rhI8rxj3L8UKMc9ehGOypBIHVqO0TC4EWWoA0ezeISVYwQJWixI0LUgnjBRB0YcKE1MnbNjDdDI83UyJgc1qIX/uiFLv5hVKQqlalJJSmQopFKMqVUIr1w5o6o4QYQNkSEkTED6W4UDSu0UCIp7AcgMtG1nmrtpzQLasyGepgczoMUiSBFFu2KV73eNa9RBdIykhAvlDZxZV2gnxZtcNEQxo0x+LAB/04ldIZB1S+Yn4ADY2/W1qu9NWZxjdhcIXXEDAVDCjwEklUbogyuAqkMTInIVxlTjVnxyBd8+BzViDEFdQSOszfzbMRA6zDRNoq0GQIjrH6kWobAARlEksROLSLbw9CCTzzKRxK4YdmCWMMILPXt8l6IurKN9x/DXVhx73TcDIHCDX/hEXMNUo0pGLaE122shCKh1B+RYq0o/JI5pEA0wv2WZsF1GHrTpV44sVdC/qDEHSQbIfkWZBA2JRJtp+XYw4BBWT8yhxDeAeCB4MMNrGCegWOG4IUp2FwMbpOD6WWI2e2owgPZ0lR+lA8b6Jgh1BVMPWzA4Q4tYokRIZg/GP9hiK7yVLwvZHG6XDwuGKtJxhIaX/ludGOBUGIxZDqDWGNL5MBMww1LooYU7NuUFqnCDE92snkHEmVzTZlYVT7TlSVUDzg8zUZcRocQekumSsxiumQGTCxeuqShnbUizljCRl+o4ojReVx2DhaeyaRnCa2jC+rrEJdB8V8y9YJ6+e0MI5S0pGLksCEU+aeYUwzn01maWJj2laaXxGkJmWMKnqPwmgUnBGkR6RpgOHSEtABeIuljCdlAsjmsAOwC07p/5R0vrnelayLx2m5LGJGGbvyQNu3DBtg2CJABI48pnmlPEUlHHag0aWuXEd3M0zauuA0kb0soG0Z4hriFbRD/fUgBtmRyAwl/jGiJeFBN6QCCcg8S4YGPsd4+vffp8g2qff+o3xKa6sEjU+Fg/AlOmTjywjvDvjZBAsUH8YUVkGJeSjvM1sHaeKY6zqOPS0iw2w02Y8oQcDj9DtWRSQTv1HSNJcRtGkmwxoTZenG3Zlx1I5azMhmeqZ73SwqZ6Yx8m1GGJi9Jc0dvjBUIqybnFkQc3+pn1v9R84Xd3Fc5t9TOd9R1CbWiCxJ3TMUFQg84FKNRc8O6ygfmNjh1jCDzKIOhvVhtudt9V3iflN5vxHcJieK9lkkpP5zBCB8QgoqNWtqYLWO0O+3D4ALpByGuO/nwVt7qz0u8eTVvI85j/4sSdZB6Q2ynDVAkoQusmPmdOAHqg6hbIqqAYptYUURSZBYnwb8a3dNleVxhHlK7l1HvI9SPRAzi9ExqYjliUQYpgGLtliqGwLy6dYYQ4hiNGg06lCEFpNB+6raXO+9rFPDrEPGLkPGhBLMKDGZhB12AAyO4hHvxFW+YAtWLjGiBFEpYBCOANpHAvs2ius66vf/JvfEiQA0xwAiZBzeYN8BoknxQhkLwAUNYBvprE1cBvIJwPuETgrIjE21QgXDzQLnTPnPhPlARwDs5wQxJwQjxNOZzwX2YhkoQgjrwhRIkFkGZv8jwE0sBl4n4QIsDwKxLQjhZQglpwgjxNWpjCP9u+AQr6IJSALuIAYUsUTwpAZFg8b84y7ojzJQybJMzLBLBuxNwWIL7QzIHXAJKOKmYOYYTegkbLAhAEMJd2cPsC0HgGkEZwkLmEcTOSEN/A6iDwIdjAIQZXIZ94DJICQfQuMPDSIKU0cMwjJkiHBc/tBRAVJNPtIxQlBBbkcB/6IdpoAQfuINgKJtVbJSEKI10k8SBKAcjGJdLBMExlDNdPBNejAxf9Lkk2AbiMz7kMwhlbJQ8+EIdfEaBUIas8hVqFMM+3MQz6sTT0cY4IcRJCYYZmIJS+Abhu0dQIYUvc8bGIAULakda3J9MPLB4BKp5PJx0bLB/hBRw8MFQkUj/S1GGOxpIxuADAptFIlTIFWNIuHJI1oHIGLtIcyHHOyGHJHhFwTACv8kUd6zFkKy0kfyskoyek7SylByXlbyTJJA0dGQMcVgCc6HJhLRG88JGMqlHxuDGMwFKOPmDSoxExnhEpERIF4LHANTJAOLJPPNJYpnKNimFPCTKwwAFgfzIrLNFYsHFSWnKJXnKw4jKqhrLRmkG3NrIwbiDyiKWpORKOYtLSJlLNwnLTctLXynL2unBvgwMfwCCdNBKkFzKbPtKGkrMXVvMXWlMNcEMyAQMCkwXwVyYtwyWwmyUwwSSuhyMu1ySzzwT+xNNi4i/0tzK07RJm8NJ4crMNNrM/27rzGUZzjZRhRbcwYLghJebxtx8md2su95MsN8UquDkt+LMFNkkE2dwtascjNSrTLeEzu2TzhajTrmyTo/DTqBZTzJhB8YjiOQciH7wAQ4KTOdMmPE0wvKUsvMMrfTkufaEHAFdkil4v3+QT5q4Fty0zK4kQ/8kLgDdOwLVGAoFEkMwvPiUxGBYhIUxzee8zBdizR9xTcGAzcI6nVbghLQMDJTzUPwcF9T0FdW8kxHlkRINjBNNLQv9EWjwGA0djIR70QYlTP6sMwhNLwndPB6tHSbdkbYxlgQ1N/gKTzmT0V2hUTix0R3BUcDQ0eVy0h2xHCANjGvoAof50PwMUf98Q9IFU1LeC9PYjFMbWQRD8U7A6IUiYlDxXFONa9MXe9Pwm9MdZR5XIDUEtcFCQ1MYDRf9vEUjvbQ/pbJALcBBBVPmMTMyBYwzCMYqpTlHhUtIvTVJvTNKRUFLjS9UzZB5GLI7lQge87H7JFLzytI22dIb6VJNUdUt21UJ6YIORNTAqIYyiJg0jVFQTU1RxTlSzTRTZcJelRHtVBNISA/5rAVKqEhcMdZG7dOrk7tcnRBoDTVxtYxZ0LJgBYzoKlZGDZYrxZVaVZNbtRFwjYgvTdUXooYzcNWIeK11ndXxgtczkddLcVY0JNcMkdZsXCyBSE57WNhF/VcoU9a7Y9b/XCvYQZS7hD2TfkVXicjXmNnWdkXWGZ3Yy6vYbbtYUDxYCdFYMqEEDEtOlwJZdv2bbsW9b03ZXlzZoHuhWpAEht26R2DDtrTSkcXSku2+k9W3nN3GnQ07pz0MayDWjo0ILgDWIeVTB71GpeU4prXHjIXaweCxGtlBKTo/rC1amyVBnI0Ye7WxsB0MTqVahvCgbLVEmt0VdwWVgF0TrtU5r4VKuGWMliWTSzC0HWS5mY1Y5uHbJRnYDqHXhnBbXjWvXnCZHdwdmgnZmtVapvTbvANcuxRc9DOvbDjTHRxTxc3aIvVKtnWYyf2z0QWMuZEH52sbBdzTtO1czHTdhYHd/2iVXcBwA2lwPtbTXLzFFb3NlMYlksfVkMgFLPMiXDJBOedjhRU93sWtNaRFws/NvNB9zeBdQPGVCA51vny5mc3NW6N9V+79Q+/9PvA1UfK1iOldkm2wAufDwOxdXVp131yE3wGU3xylX4mwXyKhT3AgM3XwAbs9SO29ttbNOug1ogLGEwtuLmUgsy5MX+QFFeW1FOYFEufNEAo2iN8d16zjhFIgsym5GvVNXvbd2/+VywBWwgH2UgxmiAMmEmMABDKjxBf24EwB4UkR4R8hYQkx4WIB26z7BinQLIMIzQ6GYHuTYDlbYoJAYYHLOsmUyX84ByHQGhj+YBleXho2TP8bNkMc1tUmzjo4OMeCWAa+pOL+BVg0Xk01DkQ2Dlc3lrNMYMuCKAWDVF3dZd0H7V120eGD4GEi8QWNNIiOHOMhtpQihpQj5pEkjpAsHogtRthFNgima4iYnOQqxrgr1j0+rldQLohGBhJ1IGWDeLuuIWMiNuMQxuMa1eNdVGXJZeUN+eWXyAOPJIiMpGVKnhRLbhRM3hFN7gxOFghPZtlgZtiCPAhRCORC/lS15cREphhq/gdX/hF1WMeDuIM41ubxUuY7YWZK2eVs7OXoHS9x5hF1mAyEEILkS2d642Z59GadAWd63pHNiMWCAAcpCJxaruRbNuJc1tJ3dsp4rmD/PzavzQhigjCGQkhoZIaUdYaTdrYRZxYWiT7hgAbnzTAFtBSIT2BOITblqkNlEyRpJs46gb6RzeDggagDoitlO5bYmH4haP4HaeZZOduMdHhM2POBnznmlxZBoPbEmdZik5Y7K5ECLhII/CUchU5mhr5kh7ZViKZLqe5kqs46K6FNgSCGDt1op9ZEqKZHso5mszZqzoC+gSiZreboRvHoNgFpLRJrxGxbuq5oznCGoxEI8Gxqn2ZcsI7XwG5NuR5qwh4vK3nPtZkbMWprxt5euH7Iwaboyi4RtfuHbOCC0+HqjvbqZXZsgYVsEpVson7aqi6RRDA8y0Xtvb6TvlaT/78elde+0dim7BdiFZYz3Nx264X0bJME7Zo+6RJxOLnV6+QWyeXeyeaWM5u2EVZhN4fNounm7AhG5AkW7tAm7iHRgmCYWvA2ZP+1brDEbul97oFgBDf4WeQObysebywub+em7YGIBQDAMPbe5t0VUeDm0v7O7vnmCQCQtcVu7zt+b82M73lm8H+ghxmI4p6O8J/e71Su8BfSbhnhl1PD7w5v7AkHzhBnnhHvEH55cAgv8EPe2n8Gm+FmngTd51nr54a08cTB8dPRcX/N71P+cJlm8dNxcQ0Zcogtcpg+8qBWcPn+76xLbb5ebXZu7b79cdcJcsJpcrSdcfeO8qhOcv/CWfIMCfPcHXMJL/O4btuzHa9WQPAbqYWhNC9iuBw5U4YYZ55ngAa5qwZiHi9tsEp29h4qJQgA2HDmSQLUkrMy6NTxyoNDZx5IMLSsAwWVHq9ZMHHzMsVMaaAIMghGl7tHlztJl7tKlztMl7tNlztPl7tQt5QdIqKDMPWsQ/WsU/WsY/Wsc3VN5/QXkvWso/VJkSM6OmEpYHZmn4JFgPZol/Zpp/Zqt/Zrx/Zsl3YhIARt9/ZvB/dwn/Yl4ANxN/dzR/dFmII6SPd2d/dr1wI3ePd5p/cyKAN6x/d2dwMuyPd+N3d2z5RkWiaDUAZKMHiDrwRpUviFZ/iGd/iHh/j/iJf4iaf4irf4i8f4jNf4jef4jvf4jwf5kBf5kSf5kjd5h2fqSfmokZK7lnf5l4f5mJd5UHkq/pr5m8f5nNf5ndf5vforngf6oBf6oSf6ojf6o0f6pFd6md+e77kafji1pu8e7kGdRDeXaZCEQdCEjZL6qqf6rieWash6SQiJrjd7qzcXcXCms/96tA+WTGgNhGH77wF7YuGHWSCETOituZ96pw+W7OB7r/f7Rhn1oR0XAsqhwv8HxVd8YjEHQOCGfDiGtWJ8CHogB7L7QbCGfpCGf6l8zG98YpmHSkh8y1980w/9XfEHQmAHe7CHx/n8CEp9XzkGVcAHXTCZ2L98/1IPFtd3fV/oBd0/fcyfFFsXopu5oRwy/h9a/iE6/mCxhvhph+Bo/uoPIj3dlXyoBn+oB2r4Weu/9eYnln4ohWlQ/ut3fuZH/2BRB0CoBEAohZ8BfyESf2KpBJWoh3iZf/W/9XQBCHGf+EEa928cpH8FDyZciPAfxIgSJ1KsaPHiP0D5/uUDhPEjyJAiJ96BqJGjx5MdM25cOfIlTIv8Ys1iidLmSpUeY/KEae/OHW04U7YkerMnUpDFcP0rOfSpzqRSLXrjBA4eK1VQiz6d6nUioV6ELonbejPq17QQ9ZE1m5OrWph/NuL7E/cuRadz/9X9t7fvX7t4p1qr1IufX/+6dgMn5it4cFJ7xS41Bqy48mPIMK1xQqz3MmPGmpOuI4T5tOjRMfPoWucrE2rQl1XzNFYztuPTtC0+KvevXMLdX532/p2wOPB/yIMLD+lPlybfEJcr952cenOQ5nRBZOeROnjrzLNf7AX0vLbwxquvJ4/Rm9B/8Ayxvy6+/nj3Fg2t++cdP4DY6XcRP4uYM9196iU3YC29+NMLdwPy5FSDD3JXIYT/YBihhBRlE8k89oiooYMZbkiihR1SlM8g2vijjCYomljihTSqeBGFNp544o0RZVOIOPrUEouMNabIY48RtWJMPsRwUiSUSCb5jzUxQrSjjjYOOA8piZBCz5TCITnFpZdgkvnlP2eCGWYw5wGVZpdoqglnmWH+k00lhGRi0Jx9xrmmnU1B5Gedc0754iOEsGLmn3TK2aid7HwyCCcHEvponXaqQkxElzKaaaChijoqqaWaeiqqqaq6KqutuvoqrLHKOiuttdp6K6656rorr736+iuwwQo7LLHFGnsssskquyyzzTr7LLTRSjsttdVaey222Wq7LbfdevstuOGKOy655Zp7Lrrpqrsuu+26+y688co7L7312nsvvvnqFxAAIfkEBQUAJgAsrgELACEAEgAACJQATQgcKNDcMIICUSE0MczcwocC8aGB+PANPooIqUnAiBBCNY4C/00ESfDNP5AaSRL0yFGkSoQmMaZ8OZAlxHkjaQ6M+fDZRp01Py6UlxOoQJ4EfRpdKXSgy6UlTw6cCVWgTRNPq+6USlWrCZYiS4gdS7as2bMlTFILIKCt27dw48oVEKCaPXbsyJXDy7ev37+A8QUEACH5BAUFACYALK4BCwAhABIAAAiKAE0IHCiwHjOCCAkys5ew4UBZGxwizPCLoUSC+ohcRHhk38aBtyJ+FJhB2MiMIwl2/Bgy5cCSG1G6HLhSYsuZJE06ZKcRJ02PDSH6fKkTIc+hKoESfCUSqQmYGHs6FVhT4M2pT4vKxEoV6FWuMPUpkUC2rNmzaNNKeLJv2p07deq8nUu3rt271QICACH5BAUFACYALK4BCwAhABMAAAidAE0IHChQnziCCAcOG6cvocOB9qI8RHjFHr6JCP8hu4BxoIVm/zoO9EdF5MAr/kxq5GjSxMeQHUm2PJkS48qZAl9ilIlTIMqJ8zb2zAnyobySQ33WRCivGMukOhHCk5iUZkZiT6tGFeiPalWrAm9+9VjUBM+xVleWWMu2rdu3b1/6q6Jhg927ePPq3eulX7QpU6RIAUy4sOHDiKkFBAAh+QQFBQAmACyuAQsAIQAVAAAIrABNCBw4UB82gggFYtOXsCFBfOZkOBxY4xy+iQ3/YfqA0cSHUP86Evy3TqLIGuxCijShkaPIjyo7kjS5EmXMiS1XCoQps6ROiikx5vzpEeTEeT6JCrTpcN5GpTuNJpQ3jiZUpgjlPYUa9SZLcVa5YhU4lGvXgTPNIsRaVm3RkDNLyJ1Lt65duzZb3t3Ldy7MdT0UCB5MuLDhwwpotLvGipUpU40jS55MubK2gAAAIfkEBQUAJgAsrgELACEAFwAACLYATQgcSFAfNoIIse1DyLChCXzmZDg0UeMcvokT/236MNHDqH8YG/5bJxFjjXYgQxLUyBGjx5QqTYwsGfIkzJAsY76MOTOmQJsqc/rcibGnz58oi248KpBow3kkmQ4E+nSpVBNOCcobR/MqVa2YWl7F+hHhP3Fdx36VGXYsQadG3U5NKtOq3KZlZ5bYy7ev379/bbIETLgw35fraChYzLix48eQFfRgl40VK1OmLGvezLmz520BAQAh+QQFBQAmACyuAQsAIQAZAAAIwABNCBxI0IS+ccMKDiunT1/BhxAF4sOHBWIYe/giahz4r1kFiBSi/duo8d+/LRrDmCQJsePHiCFHsiRoEuVGlTJnmnBJMqbOnSdn4tTJk6VPljV/DiVZdObRkkF/mlgasanOpw/nRZU6dSXEeR65CsQ6UN48m2K75iyr7GVasv/kXUlLkOrOtnQHPjU5N+/ApVbz+qxZorDhw4gTJ8bpUrHjx4Z9ZvFAubLly5gzexjjLxoQID58fB5NurTp09QCAgAh+QQFBQAmACyuAQsAIQAcAAAI1QBNCBxIUKC+fMwGMtunr6DDhw7xFbsw0IIyfPggaiz4zx+Vglf8/dtI0sQ/ZBQJWmg2siTEjh8dhmzpkiPKhytp1hQIU+PMnQNPpsTJEqhJjyR/7hRKMudSpCWVlmRa0ulUqC6laqTq0upWrDW1OuRa06vDeWB3ih0476ZRE2YHypMX862JtfKIDX0b9x+8KHYJav0XbK9drx0BBxYskifKEpAjS55MWXLOfzAra94c+edjzqAnrzThr8qG06hTq17NeoMXftGmTJEiRbbt27hz66YWEAAh+QQFBQAmACyuAQsAIQAgAAAI7gBNCBxIcKA+fec8pTtYsKHDh/jw+QlxyB6+hxgf/vv3LYWJFeE2Zhw5cKMgEiZGIBJJMuPGjgNBsmzp0CRKgSpn0iT40iNBmf92FrRZMGdQoQJ7OgSK1ATRhkaRKn3IdOdTh1FpTsVYleTVh1lHbs3YFeNXjGE1cvTZsmzDsxnTFpy3FqnbgXRPIpUrUN48mE3v+tXbVO4/ednYBg55NKm8PjebplzZeOM1xZKrboQsmWDUniVCix5NuvRooDZNq15dImpH1rBLgxR4Mrbt0CpNfINRwIDv38CDCx8+QJy4Z8+WLUPOvLnz59DJBQQAIfkEBQUAJgAsrgELACEAJAAACPkATQgcSLCgPmz39hVcyLDhwHsl8OFzSNGhP34m/v2ryLHgP34u/G3s2FHjNAXVNJLkqBGNiTcqVzo0OcEEhJQjZS5sORBmTp0DaQ68GROoQJ4EfRo9+m9aTYJEf8pEWlApUKELo17957Kh1ZVYGWoFy7XiV5ZNnzoci7ar2aIUw1JkO7MsybMM5Vaku9PuSrwE56XVyXegYLcyAZuQN8+p0cKMEevE+0/eM7VA6VYes7RnUY2XOwscq5GzaIFKaZZYzbq169eto7aETbs2a6VObet+fVMgmt3AW78xMS2AgOPIkytfzlxAgGr22LEjV0669evYs2vHFxAAIfkEBQUAJgAsrgEOACEAJQAACP8ATQgcSLCgiRL/DCpcyLAfQoYQI/YzkTCixYL/Jv6rePHiRl4bO3r8J66FuZAiIW489GGSP44pDW4Ut8IEi3IoY2L8d2iECRGOcuoUOLOmwJtCda70KRBo0pRFCyKFCZUn04FOqXaManCqUqsKs8bkqtCryKUMxW4laZShWYtoIaqNSBbiW4ZxI85dWDfiXZlgO+4tOI9tzL8DC/eMOVigvHk0hyJ+vFjn4H/ytrXVeRfzIRFDmwbluFFz6IFmV4I+/XM0RbYlYsueTbv27KlLbeveXUIsTd7Aa98U2DO48dhATYiDgaC58+fQo0tHAKOct2PHghHDzr279+/gwQUBBAAh+QQFBQAmACyuARIAIQAlAAAI7QBNCBxIsKAJbAYTKlxo4p9DhhAXOnwYsaLAiRQtRvzX70VGjRId8pgIkqFDZwumfSxJcKIYE2pIsizo8NkEExFU/pvZ0uFLgTFXlqx5U2BOoRpdFgy6cybRgkebDvWZkCnLpwajTv33s6pMi1gTagVLlaHVimEVjoWoNOJZk/9sVlyrsG3FtwnTQqRbcF5ZjXgJ+pULkq9AeX67ggxsAjHhknz/IVZcEq/kZUVnrnUo7wvPgWcdYv5sVGdDh19KqF7NurVr1kyJvp5Nu8RYMbVzu1Yz0Kbu36pzCsQNHDjvZwCSK1/OvLlz5dMCAgAh+QQFBQAmACyuARcAIQAmAAAI/wBNCBxIsKCJFwYTKlxowl+JfwwjLuxnAqLEiwP/UfxnEaNEjRU7elzI0Z8djiJHGuR4LUE2jioVopRDYg/KmCv/XXtgwoE2mDgzcpwjsObNoCF3DvQJFCdKogONNlXJkidBpikxPjUoNetHnVYLYqU6VGHXkVUXjtVaduHZi2kZro24NeJbhnEjzpXZVuLdhHkl7i04r+/FvwQLKx05WKC8wlBHIjbxeLHKwf8eR1b5N/O0sDHncpQXhwTStxw/IxU4FmXpErBjy55NG/bbnbVz6y7hk+Cc3cBn1xyIO7hx3toE/j5ufPg1AQOiS59Ovbr1AQK0tQsXTps27uDDiwUfT/5dQAAh+QQFBQAmACyuARwAIQAmAAAI/wBNCBxIsKAJT/z8GVzIkKE/f/8aSpz4r+LEiwYrasTI0cQ/f8AgdrxYkZ9HiyMbVrzXYh/KlBkr2orwayPMghX1ETFxxGXEmwM12tpgQkPNlzdz7hTYE2lKoUQFGrUJU2nBpj+fyow6cKpTjFYNYtX6b+hCr1nB/tPZcCxHqA3Rvl27tK1PtWW5MpRLkS5Gtyq3YuTLMOzfuwznCeZIuKBitiMBE5Sn2OzIxgIpQ04p2SNlyykb/5PHri5MwBXlvdIb+ujPiqWBDhyrcXWJ27hz6959G61S3sCDl3A7VLjx3EYH6jzO/HZPgcWbH0+uT8kECdiza9/OvfuTfdLu3AypU0e8+fPo06unFhAAIfkEBQUAJgAsrgEiACEAJgAACP8ATQgcSLAgvxL/CipcyJBgP4QNI0b818/Ev4QSMxKkaBGjxowXK170+LHhyHwjS068yG9Qv5QqF47cBaEYzJgbWSIx0eTlRZw5/+3KYAKDzZ9AO/7jt1Ngz5sxZxIVaBRqyZFMCz5FqlJqwapcP2JtqtUnSZAXhy4Ee3blUrIKt7Zl6JUhW41jJcpFK3Rqw7tus2bcazKt34iAF87TWZKwwsV9SyYmKG+x4MZmFVaOrHKyxcqXVTr+PE8tzsQX5b2DG5Nw6lqHY94d2Q5Jidu4c+vefVvuSFoaeAsXDpjp8OO7exIcirz5baMDjTt3rtwE8+nNofNzYqG79+/gw4sTtwCl37MzZ8qYQc++vfv38KcFBAAh+QQFBQAmACyuAScAIQAoAAAI/wBNCBxIsKCJfwYTKlx48B9ChhAVOnwYsaLAiQ4tWvzHr6HGiA77NaT4MWHIkSUlhoyAMaXBid1ahJvokiDGQCIUtaw58hsKEytmZqyJURAJEyN00nQ50efAoEtLFj0qMOnOj01/EoQ6VOPUglajVsyakCtJiF8Nhu2K1qFThWbHTjS6cO1Zk261LozLMG1dpWxf5q3IN+G8uVQh2lV4+N9bwkLvmpDXmK7FxQUpO9ZrsfBFzZY1Yv487/HHwg4ph/6IOXU2ziXjTpTnh0SJ27hz695td+I1FLuDC79duI/t4chxJy3oM7lz4uEIGn3ufLnA5tSdBxU4PXvy5d9gFBowQL68+fPo0w8QJ+7Zs2XL3MufT7++fXIBAQAh+QQFBQAmACyuAS4AIQAoAAAI/wBNCBxIsKCJEgYTKlxool+JfwwjLnQIUaLFgf/8AfNX8aLEfyBBevwYMuRIhiVNnkwY0p+dkisNhsyGoJvKmAJL4iERCCZOEyG1PTCRgtvNlTpJmODpEylIoQOLHvWYdCDTqRaDDiUoVeTIqgSver2oNWHXjiRB7kwoFi3Kp1vNGh37Vq1ShW3TQmV4NiLYhXkXlpXYV+G8kGslBjZ4+N9ei4ULymuc2OLigZMdx70YOWfmyhcv/5v8eGRkkJNBewyMutrmk31DypNDooTt27hz624b0rXu38BtR6YdvDhungWFGl8unBvBncyXIxeoPPryogKhWzeOXNsAAuDDixYfT748gQHczlmzNm3a+vfw48ufjy4gACH5BAUFACYALK4BNQAhACgAAAj/AE0IHEiwoAlP/PwZXMiQ4b4S/xpKnMgP4sSLBv/1M/EvIsaPGjl6/Dix48aOI0ky7OjvBUqVDVH+Y+fvJcyMHeExoWfz5kCZozKckunzZ84aJnDI63kTqAcTHYYyVYkSHlKBSqeCRDnqqcCoRGFWvTowa0exXL0OBKtV4tiFZlOWTLuQ7VmMbxnGxUuXoV25C/M23Ou2b8O/hf9ZxUh44TzDEhE7PkqyMUF5j/91JSn58uPFKi1zxKxZ7cfOo+eBhtm4I+bNNyW7Nkf25l6U8jp5KMG7t+/fwP+ipA28uHHejXUfX+47akGrzKMjl0ewq/TozgVCvx5dqUDr3Jk7HYfXg4H58+jTq1/PoMc8a6BAceIUv779+/jzZwsIACH5BAUFACYALK4BPAAhACkAAAj/AE0IHEiwoIl//wwqXMgQYUKGECE6jEjR4D9/2BBW3HiQ38GHHCX+6/cRZEiFCElOPIkyZUmTLAU67GfBIUyWNs0VMGcz5kCbkzxY6ukzJwsTLniuxOlwEggTIYYuDWl0YFKiVJs+FRgV68aqBK9OpQh068CuY0UiNHfUoFiNFcsqRAs3IliFb29a1MqQrl6CdxfmVfvPaUS/DOc5ZFtxsELFCA1TRGxQHmTGGx0TtBzZ7GSpdWVyxsxR80HOkjlS/miZdEjHCC2nDonYoTxwLEro3s27t++8thuB8E28+OpvuYsr753UoPDl0HVHLcg2uvXmA51ajz5dYPXt0bFrJAcPfbo5GgnSq1/Pvr37BDTKacOla9YsXfjz69/PXz8uXNsEBAAh+QQFBQAmACyuAUQAIQApAAAI/wBNCBxIsKCJEgYTKlxool+JfwwjLvyHDaLEiwP/adSIEeNGjh0jftwYkqHGfi9Ilkz4MaXKlQQ3+nvh7yVMEx/jFbD38abAj6kuwOp582M9HiZ+8LQZ8uMqDiY4DGXqcePRgUqJNt34dKBUrVU1XiWYlapJrlAJfjWr0ChSg2VBSnSatuBauWfFvk0Y12Lef10V3vXb1upehX3/Bl44eOE8wxcTJ3yscTHDxgblUR4beSlegZor15WIOWNozhgl/wxt+WJpjZpRd5QMe15rjI03ykPHo4Tv38CDC++r+xQH4ciTl0Z3I7nz4fYMGn9O3bfUgvWaV6+ulODT7dWvCyg8Cn57dxPfy1O/Xi9Ig/fw48ufT7/BEHvVKFGKFEm///8ABijgNQEBACH5BAUFACYALK4BTAAhACoAAAj/AE0IHEiwoIkS/wwqXMiwH0KGECM6TBixYsF//Uz8o2jR4j9/nvj56+jxo7+NHEkuRMlSJUOWMF0qROkP2MmNMi+i5HchZk6BLMUZMNfyJ0xFHyb5lMly3AoTLMoVdQnT0QgTIZROJdn0qcCoW0uitDow61Kx/5wWBIuSK0uyBM2GfYlSrUG2OCtWvWpQbtuIXRniTTnzLV+FfvOurOtVsNS/CucZjpiY8EDJG+1GHKxQHuZ/cClrhTzQc+bGFTkT/Gca9OGKlVeb1txRtUbWkkN3jH3bM22SnFF6tlqiuPHjyI9XFr5tRfLn0G2bODQCunXlkxQ2v869eFSD1LtzNs9a0Kn47t8HEj9/nbxA8+y5p18f3zr5cTAQ6N/Pv7///wjAYM43xxwTDDEFJqjgggw2GE5AAAAh+QQFBQAmACyuAVUAIQAqAAAI/wBNCBxIsKCJEgYTKlxogl+JfwwjLuz3UKJFgv/6mfgH8aLFjBs7emTIUSNHkSMTnlyZUuHKly0NvmQZc+BLcTBrhuSIrgA7mjFfbtowKmfLletkmKjRDuhIoR9MeCjq9CJSpQKZVpUIdeBUox9PJi2o9aTHrgS/bnUpFivZpma5rtwU1aDauCTbLizLMSLahHf7LrwakS/KgvPm1l0Y+PDAxBzHSjScUB7kf3QtNjZoObLbyXAF2+yMebHEzaMTS/ZIWSDHzplHon49b/VIyict0y3Bu7fv374b5x4nA7jx460FYvpwvHnwUQnFFXdOvQRTg8urU59aMKn26tcH7iz+7py7QO/kqYcfn74593U0FMifT7++/fsKerDLxoqVKVP9BSjggAQWuE1AAAAh+QQFBQAmACyuAV4AIQArAAAI/wBNCBxIsKCJfwYTKlxogl8JhAwjKuz3UKJFgv/6HYR4UWLGjR09fvxHMiRDkhpJcjRZUKU/YP5UsjSosmbJmQNt6sQp0CYtmzxtUjthLabMmTbZmKADlKXQCCYeVGsaMulApjVNPh0olapFqwSxHv1akxpUgl2zklWp1KDYmxG3Gkw7diHYhG9XJpSbkC7cvTXbLsy7cF7Zswv96h1omK1FwgblNf5n1qLiyJMFS4ScUzLJyhcvd26s+TFVkp5BdxSN2nDpi4RVSjZborbt27hvK5Y9j03u38A5m4gWAbhx3dUUrjnOvDadhNCKNz8u1SCa6c2fE3wmHbvxB9AI+i32znzOQNrkqSc3MT798efUAgiYT7++/fv4BQSoho8dO3Ll+CfggAQWaCA+AQEAIfkEBQUAJgAsrgFoACEAKwAACP8ATQgcSLCgiX8GEypcaMKfJ34MIy7cd1CiRYL/IP5DeNHiv34HOXZkuBHkRpEjE5YMiTIlxo3+Xpxs6ZLlzI01X96cmVPgTV83e960liBb0Jo345DQczTlUAgmHBjl6XRmnIFMqXZ8OlBqU49WC2Y9uXWmNagEvWqNmDThWJwSuRpUS5ZtWIVvaRaUm5AuXIVtGeZdOM8s2oV+9ZoofPKqxMEG5TH+d9Zi4siTHVuEPJAduXLs2EU7LNHBtNCoCeJLpw4fPqUj8biePXCjZMqkLU+ta7uw5pGDT0o+W6K48ePIjycWPi9O8ufQOZuYBgG6deXZFK65zr24noTUu3M7l2pwu3ju3wkSP3+d/EDn7NEPXB/funv49a9/tyZggP//AAYo4IADCJBNO+GEo402CTbo4IMQRvhOQAAAIfkEBQUAJgAsrgFyACEAKwAACP8ATQgcSLCgiX8GEypcaMIfNoQMIyrkVwKixIsC//U7aBFjRI0cPUr8B5JkR5EGSW40iVKhyZUsWxY0+e9hTJkZaeo8iVLnOp04OZqkZ+aeP5o4dabC8ApoS530dJjYYc+pSKUdTHCAZRUjVKkCqXYdSTNVVoFbxzJkx5atuRsFd5hryxYjvrt3T3EoyGFVPrz4Ln5NKBbpx7Jn+XI1vHCwwsI3E2JdmJaxwXk0o0aETFIhZpNmI1aOPFDe53+aJXLmaRp0YoajOxP81xo12IurZ9cOjTG2RZKtU3vMzbE1b4++hZqOWqK58+fQn682adps9OvRkw9EpwO7d+n2FI5I6vC9/NaE3Murp2pwvHrzsArSu/F+ffiB1ut/Py+Quf7y7JmQ33/enUdPEA0kqOCCDDboYAND2FMNJZREEgmFGGao4YYcWhMQACH5BAUFACYALK4BfAAhACwAAAj/AE0IHEiwoIl/BhMqXHjwn0OGEBX2e4EwosWBDilWvBjxn7+GHDv+69dwY8iEDkk6NHmSILuX60y0e8mupUF8OO15uncPJz6bGFf24+dvJcuTRpM+BKrUnFKmRt0xiZfUptJQGVI9RWoUXg0TN+ZVDal0lAcTHbSOvZjU68Cwa0UaNTsw7Va5Dt0ShGvUYtmzBO3GVdj2q0G+KyH+TSi478LCCxEvTSh2LmDGah0brJzXcGTOkwnKA02XYePEBUev1AtRMst/qh2Whng6NOzKrCO6Dhp7dsTaFR2qzm1x90rVZksoX868uXLgx+d5dU7d+W6CyatrL5F2obka28OHSFXYyUP47d0Nfj8vfp7B8uzRpyo4Pf728QOz26+e3kT9/drhpx+A1HUHTw8MJKjgggw26CADPdBjDSigcMIJhRhmqOGGHGYTEAAh+QQFBQAmACyuAYcAIQAsAAAI/wBNCBxIsKCJfwYTKlxowh8wfwwjLuRXAqHEiwP/8TtoEaPEf/04evwIkmPHkQn/lVR5EiVBliFZtnRpUqZKmi9t2sQpUOdOnDr96QQqk58CoTJp6lzm4hlSli51UjHxZejIpRVMUHhmFaNOLAOr/ryIdeDWrhG/FhSblKTMZVkJnh27UK1BtlAZljU4t61Cuwnx3lQ4zybchX3zGiwsEyxDwTNNyGOs8jDDxIMJTm58EXLBf5srx42I+SRoyo47d1UZ2vLF0j1Pq0yN0TPLzXBL6N7Nu7fu0rcLY/FN3LdngrmLKy+xleHw5cu/LDxWAfry5gmfW1cu3SD17defGTK8Ah5694HJyxfHLlC7+uLn078njj2Lh/v48+vfz9+DFxPPAAGEDz4IaOCBCCao4DQBAQAh+QQFBQAmACyuAZIAIQAtAAAI/wBNCBxIsKCJfwYTKlwosARChhAV9nP4MKJFgf0OXtz4L+O/ihsZdjwIMmTCjx4/mlz40R8wfypXGvxIs6bMgjVz3hyYs+dOki098YMZU2bOfUBp3sx5r8U+nSt73oogzKfJnPqImDjy1GbInrs2mMhQFepFrEUGcjUbEaxYgWSttq2pLy3BtV4hui0Yl61CtAnxKhWZM2zCvnlP0rUbuOvghPMKvz1cNjHByDTrQhRclKA8zB8NM0T8eODnzIwZci7573ToyaMrl26NWfPF1Txpv95IOubH03VLCB9OvLhw3DRPhzXOnHjvksGbSy/BleHy6c3JLmRXBPv06gllbUXwLl27Qe7kvyMtKD59eWEFo7tvDl7g9fnMzZuQj585+Pv9GaedPkpIYOCBCCao4IISPLHPNHfcUUcdEVZo4YUYZlhNQAAAIfkEBQUAJgAsrgGfACEALAAACP8ATQgcSLAgvxL/CipcyJBgP4QNI0b818/Ev4QSMxKkaBGjxowX/b246PFjQ5IoTU5EmVLlQpYtXW4k6Q8bS5kzL/LrSBKnQJYVYfoEyrOnTJj9GMAs+RHmswXThKpcSsZEm6VTWUabYCJC1JtNYVYVeFUqSK1cBXo1u5Ll2IFlwbYlubXgWrkMqS6MG/Ml2oV3+xacJ7YhX6MKCaOsyzAwYoLyFJN8y/DwRYWRF6dt6PjyxsyTNVou+Q/0P8YSO3u8aJqyxNE/SytGnVE1T9BkSujezbu37tEkM2/1TZy37YK5iysv0Ubi8OXFvUZMDr14c4bNJlRXLn0h9e3ErxctzA6e+zSF38v7Fi/wuXri3QWmf99bvHv6vrvPx8+7eTQAAAYo4IAEFhjgNAEBACH5BAUFACYALK4BqwAhAC0AAAj/AE0IHEiwoIkSBhMqXGiiX4l/DCMu7GcCosSLA//9w6YRI0aNID1KBElSJEOSIU0mBNnvRUmVBUm6TAlTIEl/FV/WJEkRZc2cLIHSNImyJUqLRFHmU7LvqMqjtyL8ciryqD4iJo409ekR6gYTGqZyvWgVq0CtVEeivPVVYNi0J1FeLYh27EKvBd/aXSnXLN2tOvmSZJtQb+CC8/ourHt4YOLBbQuLbWxC3mONcxkyHirQMuSIhjn/84zZr2bAQ0dfJiwxdEebqkt73PxaI2nWF11DBOn5aonfwIML/00b6UC2w5MHDxvRt/LnJbQyRA5dOXOF7IhUhy49oawN259fQS+YPTz3fQZfgTdv/VdB5+yVdxdIPX7y8fDtJ+9eX/9w5vooIcGABBZo4IEISvDEPtPccUcddTgo4YQUVmhhNQEBACH5BAUFACYALK4BtwAhAC4AAAj/AE0IHEiwoIkSBhMqXGjCnyd+/hhKVOjP37+JGAn+27gxY0aOHT1K3OgPmMWLIhdu5GeCY0qFHFmCfGmQY7+WLmkOBHkTJEqdPHHmpOmzp0+gPpP+FKn05NGUSf1lUgo1qTIWzah6jErFxBatGJUqs2CigjOwI3366yrwa9KwVskKNIsWplq2A90+VRm3IN23fEGuTah3psJ5fQ3+3VsQsWC8BgsPJSjPMcexCxcbpmz532CGkkPurAwSM0PNk/+RJgl5YeifG1f/My0RdcjYjj9jfC109dgSwIMLH24bJOm1w5Mn513wt/LnJcxKRA4d+haJzqsrl65QHhXt1a8rRzRmATx07gXhfTdvPWGx8uyfoxdIPf5z8QOz20+Ovv5+5fjp9x9xzjSUhQcIJqjgggw26EEY/jgDBBA++DDhhRhmqOGG0QQEACH5BAUFACYALK4BxAAhAC8AAAj/AE0IHEiwoIl/BhMqXHgQIcOHC/9JhEiR4D9+Bytq/NevoUaIEjtO/MgwZEOHJA1K5HgyZcKVIle6tLjSHzB/MmcKXMmTp86eQFGmDArUJVB/nvjhzEkS6L4OQZsCXVdAXtGPQTdtOLXUZ8Wg7WSYwGG150agoTyY6MD16kOwYgWSdVsSrVqBbLsyVQi34FyzdXumLZiXbsF5QMMm/Os1IWLBdwm3BVxQ3uOVihUy3jvQMuSFhSnv9Iw57sLNIwf+Iy1xMMPQjSWyzvwQNUrZl10/hC1zJemwJYILH07cNk/SaYkrH8479UDgy6OXIAsxufTleRlCv76c+kLr3JVnVE9oTkZ46d4NbvJwPvp4gsZitEcvz6CVD/Pdn6o/0J35/NGlZwJ4ABI33nYFKucdgQkyx1U7PTAg4YQUVmjhhQz0IE81oIDCCScdhijiiCSWeE1AAAA7\" />"
      ],
      "text/plain": [
       "Plots.AnimatedGif(\"/home/maths/masqhp/.iatl/modules/IL027-dev/IL027-dev/InterdisciplinaryComputing/L4/tmp.gif\")"
      ]
     },
     "execution_count": 12,
     "metadata": {},
     "output_type": "execute_result"
    }
   ],
   "source": [
    "X0 = [(land[landing_site+1, 1] + land[landing_site, 1])÷2, 3000]\n",
    "V0 = [0., 0.]\n",
    "Xs, Vs, thrust, success = simulate(X0, V0, land, landing_site, dt=dt, autopilot=dummy_autopilot)\n",
    "plot_lander(land, landing_site, Xs, thrust, animate=true, step=10)"
   ]
  },
  {
   "cell_type": "markdown",
   "metadata": {
    "nbgrader": {
     "grade": false,
     "grade_id": "cell-855aed767c94d298",
     "locked": true,
     "schema_version": 3,
     "solution": false
    }
   },
   "source": [
    "As expected, we still get a crash landing as we have not fired the thruster at all. If you reduce the initial height of the lander you should be able to get a successful landing, but of course this is cheating!\n",
    "\n",
    "You can experiment with writing your own autopilot, or proceed to the next section for some suggestions."
   ]
  },
  {
   "cell_type": "markdown",
   "metadata": {},
   "source": [
    "## Proportional control\n",
    "\n",
    "We would like to design a suitable strategy for the autopilot, whose job is to adjust automatically the lander’s controls (thrust, and later the angle as well) to bring it safely to the surface. There is a powerful engineering discipline, **control theory**, that provides us with the necessary tools to do this. We will take a less-than-totally- rigorous look at a straightforward technique called **proportional control**. You can read more about this on [Wikipedia](https://en.wikipedia.org/wiki/PID_controller) or elsewhere.\n",
    "\n",
    "We want to use the engine’s thrust to control the rate of descent. Suppose our strategy is that the descent rate should decrease linearly as the lander approaches the surface, i.e. with target vertical velocity\n",
    "\n",
    "$$ v_y^\\mathrm{target} = −(c + K_h h) $$\n",
    "\n",
    "where $h$ is the lander’s altitude and $K_h$ is a positive constant. This seems reasonable, since the descent rate should then approach $c$ m/s as the lander touches down. If we set $c = 10$ m/s we should be safely within the 40 m/s limit. We can define an error term\n",
    "\n",
    "$$ e = v_y^\\mathrm{target} - v_y = −(c + K_h h + v_y)$$\n",
    "\n",
    "which is positive if the lander is descending too quickly and negative if the lander is descending too slowly.\n",
    "\n",
    "The instantaneous output of a proportional controller is then\n",
    "\n",
    "$$P_\\mathrm{out} = K_p e$$\n",
    "\n",
    "where $K_p$ is a positive constant known as the controller gain. Ideally, we would use $P_\\mathrm{out}$ to control directly the engine’s throttle, but here we must diverge a little from perfect proportional control theory, since whereas $P_\\mathrm{out}$ might take any real value representing arbitrary forward and reverse thrust, the lander’s engine is only capable of delivering a limited amount of forward thrust corresponding to throttle values in the range 0 to 4.\n",
    "\n",
    "**Question 4. (15 marks for infinite fuel + 20 marks for limited fuel)** Implement this scheme in an autopilot function named `proportional_autopilot()` and experiment with different values of $K_h$ and $K_p$. You will need to resort to trial and error when tuning $K_h$ and $K_p$. Initially, you might find it helpful to give yourself an infinite fuel supply (pass `fuel=Inf` to `simulate()`), though you should eventually manage to find suitable values for $K_h$ that bring the lander safely down with the supplied amount of fuel (`fuel=200`). \n",
    "\n",
    "Here is a skeleton for your function:\n",
    "\n",
    "```julia\n",
    "function proportional_autopilot(i, X, V, fuel, rotate, power)\n",
    "    c = 10.0 # target landing speed, m/s\n",
    "    K_h = ...\n",
    "    K_p = ...\n",
    "    power = ... # set the thrust, must be 0 < power < 4\n",
    "    rotate = 0 # rotation angle, -90 < rotate < 90, not needed until bonus question!\n",
    "    return (rotate, power)\n",
    "end\n",
    "```"
   ]
  },
  {
   "cell_type": "code",
   "execution_count": 13,
   "metadata": {
    "nbgrader": {
     "grade": false,
     "grade_id": "cell-b4b2b195acf7f9ba",
     "locked": false,
     "schema_version": 3,
     "solution": true
    }
   },
   "outputs": [
    {
     "data": {
      "text/plain": [
       "proportional_autopilot (generic function with 1 method)"
      ]
     },
     "execution_count": 13,
     "metadata": {},
     "output_type": "execute_result"
    }
   ],
   "source": [
    "function proportional_autopilot(i, X, V, fuel, rotate, power)\n",
    "    c = 10.0 # target landing speed, m/s\n",
    "    K_h = 0.01\n",
    "    K_p = 0.2\n",
    "    h = height(land, X)\n",
    "    e = - (c + K_h*h + V[2])\n",
    "    Pout = K_p*e\n",
    "    power = min(max(Pout, 0.0), 4.0)\n",
    "    i % 100 == 0 && @show e, Pout, power\n",
    "    return (rotate, power)\n",
    "end"
   ]
  },
  {
   "cell_type": "markdown",
   "metadata": {
    "nbgrader": {
     "grade": false,
     "grade_id": "cell-c0b8f1972c9520c7",
     "locked": true,
     "schema_version": 3,
     "solution": false
    }
   },
   "source": [
    "While testing, you can use the cell below to run the simulation and visualise your trajectory:"
   ]
  },
  {
   "cell_type": "code",
   "execution_count": 14,
   "metadata": {},
   "outputs": [
    {
     "name": "stdout",
     "output_type": "stream",
     "text": [
      "(e, Pout, power) = (7.861249639322537, 1.5722499278645075, 1.5722499278645075)\n",
      "i=100 X=[5162.000 2814.567] V=[   0.000  -34.956] thrust=[   0.000    1.572] fuel=     Inf\n",
      "(e, Pout, power) = (18.91237222946112, 3.782474445892224, 3.782474445892224)\n",
      "i=200 X=[5162.000 2413.356] V=[   0.000  -41.781] thrust=[   0.000    3.782] fuel=     Inf\n",
      "(e, Pout, power) = (20.55625815543639, 4.111251631087278, 4.0)\n",
      "i=300 X=[5162.000 2006.383] V=[   0.000  -39.331] thrust=[   0.000    4.000] fuel=     Inf\n",
      "(e, Pout, power) = (21.45625535839655, 4.29125107167931, 4.0)\n",
      "i=400 X=[5162.000 1627.673] V=[   0.000  -36.441] thrust=[   0.000    4.000] fuel=     Inf\n",
      "(e, Pout, power) = (22.067252561356717, 4.413450512271344, 4.0)\n",
      "i=500 X=[5162.000 1277.862] V=[   0.000  -33.551] thrust=[   0.000    4.000] fuel=     Inf\n",
      "safe landing - well done!\n"
     ]
    },
    {
     "name": "stderr",
     "output_type": "stream",
     "text": [
      "┌ Info: Saved animation to \n",
      "│   fn = /home/maths/masqhp/.iatl/modules/IL027-dev/IL027-dev/InterdisciplinaryComputing/L4/tmp.gif\n",
      "└ @ Plots /opt/julia/share/site/packages/Plots/qZHsp/src/animation.jl:98\n"
     ]
    },
    {
     "data": {
      "text/html": [
       "<img src=\"data:image/gif;base64,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\" />"
      ],
      "text/plain": [
       "Plots.AnimatedGif(\"/home/maths/masqhp/.iatl/modules/IL027-dev/IL027-dev/InterdisciplinaryComputing/L4/tmp.gif\")"
      ]
     },
     "execution_count": 14,
     "metadata": {},
     "output_type": "execute_result"
    }
   ],
   "source": [
    "X0 = [(land[landing_site+1, 1] + land[landing_site, 1])÷2, 3000]\n",
    "V0 = [0., 0.]\n",
    "Xs, Vs, thrust, success = simulate(X0, V0, land, landing_site; dt=0.1, Nstep=2000, \n",
    "                                   autopilot=proportional_autopilot, fuel=Inf)\n",
    "plot_lander(land, landing_site, Xs, thrust, animate=true, step=10)"
   ]
  },
  {
   "cell_type": "markdown",
   "metadata": {
    "nbgrader": {
     "grade": false,
     "grade_id": "cell-399af979e2d3786c",
     "locked": true,
     "schema_version": 3,
     "solution": false
    }
   },
   "source": [
    "You may also find it useful to plot the actual and target speed as a function of height by adapting the code below"
   ]
  },
  {
   "cell_type": "code",
   "execution_count": 17,
   "metadata": {},
   "outputs": [
    {
     "data": {
      "image/png": "[encoded data removed]"
     },
     "execution_count": 17,
     "metadata": {},
     "output_type": "execute_result"
    }
   ],
   "source": [
    "c = 10.\n",
    "K_h = ... # fill in your value of K_h here\n",
    "\n",
    "h = [height(land, Xs[i, :]) for i=1:size(Xs,1)]\n",
    "plot(-h, Vs[:, 2], label=\"actual speed\", xlabel=\"- altitude\", ylabel=\"Vertical velocity\")\n",
    "plot!(-h, -(c + K_h*h), label=\"target speed K_h=$K_h\")"
   ]
  },
  {
   "cell_type": "markdown",
   "metadata": {},
   "source": [
    "Here are the test cases, first with infinite fuel [15 marks] and then with 200 liters of fuel (a bit harder!) [20 marks]"
   ]
  },
  {
   "cell_type": "code",
   "execution_count": 18,
   "metadata": {
    "nbgrader": {
     "grade": true,
     "grade_id": "cell-1dbaf35a058f38f0",
     "locked": true,
     "points": 15,
     "schema_version": 3,
     "solution": false
    }
   },
   "outputs": [
    {
     "name": "stdout",
     "output_type": "stream",
     "text": [
      "(e, Pout, power) = (7.861249639322537, 1.5722499278645075, 1.5722499278645075)\n",
      "i=100 X=[5162.000 2814.567] V=[   0.000  -34.956] thrust=[   0.000    1.572] fuel=     Inf\n",
      "(e, Pout, power) = (18.91237222946112, 3.782474445892224, 3.782474445892224)\n",
      "i=200 X=[5162.000 2413.356] V=[   0.000  -41.781] thrust=[   0.000    3.782] fuel=     Inf\n",
      "(e, Pout, power) = (20.55625815543639, 4.111251631087278, 4.0)\n",
      "i=300 X=[5162.000 2006.383] V=[   0.000  -39.331] thrust=[   0.000    4.000] fuel=     Inf\n",
      "(e, Pout, power) = (21.45625535839655, 4.29125107167931, 4.0)\n",
      "i=400 X=[5162.000 1627.673] V=[   0.000  -36.441] thrust=[   0.000    4.000] fuel=     Inf\n",
      "(e, Pout, power) = (22.067252561356717, 4.413450512271344, 4.0)\n",
      "i=500 X=[5162.000 1277.862] V=[   0.000  -33.551] thrust=[   0.000    4.000] fuel=     Inf\n",
      "safe landing - well done!\n"
     ]
    },
    {
     "data": {
      "text/plain": [
       "\u001b[32m\u001b[1mTest Passed\u001b[22m\u001b[39m"
      ]
     },
     "execution_count": 18,
     "metadata": {},
     "output_type": "execute_result"
    }
   ],
   "source": [
    "# first test with infinite fuel\n",
    "X0 = [(land[landing_site+1, 1] + land[landing_site, 1])÷2, 3000]\n",
    "V0 = [0., 0., ]\n",
    "Xs, Vs, thrust, success = simulate(X0, V0, land, landing_site; dt=0.1, Nstep=2000, \n",
    "                                   autopilot=proportional_autopilot, fuel=Inf)\n",
    "@test success"
   ]
  },
  {
   "cell_type": "code",
   "execution_count": 19,
   "metadata": {
    "nbgrader": {
     "grade": true,
     "grade_id": "cell-339ed3b6ecb3be40",
     "locked": true,
     "points": 20,
     "schema_version": 3,
     "solution": false
    },
    "scrolled": false
   },
   "outputs": [
    {
     "name": "stdout",
     "output_type": "stream",
     "text": [
      "(e, Pout, power) = (7.861249639322537, 1.5722499278645075, 1.5722499278645075)\n",
      "i=100 X=[5162.000 2814.567] V=[   0.000  -34.956] thrust=[   0.000    1.572] fuel= 197.846\n",
      "(e, Pout, power) = (18.91237222946112, 3.782474445892224, 3.782474445892224)\n",
      "i=200 X=[5162.000 2413.356] V=[   0.000  -41.781] thrust=[   0.000    3.782] fuel= 167.561\n",
      "(e, Pout, power) = (20.55625815543639, 4.111251631087278, 4.0)\n",
      "i=300 X=[5162.000 2006.383] V=[   0.000  -39.331] thrust=[   0.000    4.000] fuel= 128.001\n",
      "(e, Pout, power) = (21.45625535839655, 4.29125107167931, 4.0)\n",
      "i=400 X=[5162.000 1627.673] V=[   0.000  -36.441] thrust=[   0.000    4.000] fuel=  88.001\n",
      "(e, Pout, power) = (22.067252561356717, 4.413450512271344, 4.0)\n",
      "i=500 X=[5162.000 1277.862] V=[   0.000  -33.551] thrust=[   0.000    4.000] fuel=  48.001\n",
      "safe landing - well done!\n"
     ]
    },
    {
     "data": {
      "text/plain": [
       "\u001b[32m\u001b[1mTest Passed\u001b[22m\u001b[39m"
      ]
     },
     "execution_count": 19,
     "metadata": {},
     "output_type": "execute_result"
    }
   ],
   "source": [
    "# now test with fuel=200\n",
    "X0 = [(land[landing_site+1, 1] + land[landing_site, 1])÷2, 3000]\n",
    "V0 = [0., 0.]\n",
    "Xs, Vs, thrust, success = simulate(X0, V0, land, landing_site; dt=0.1, Nstep=2000, \n",
    "                                   autopilot=proportional_autopilot, fuel=200)\n",
    "@test success"
   ]
  },
  {
   "cell_type": "markdown",
   "metadata": {
    "nbgrader": {
     "grade": false,
     "grade_id": "cell-335ca7b2bc5c83ad",
     "locked": true,
     "schema_version": 3,
     "solution": false
    }
   },
   "source": [
    "**Question 5. (10 marks)** Write a short paragraph to explain the role of $K_h$: too high and the lander crashes, too low and it runs out of fuel, but why? "
   ]
  },
  {
   "cell_type": "markdown",
   "metadata": {
    "nbgrader": {
     "grade": true,
     "grade_id": "cell-f2358f1622d661ea",
     "locked": false,
     "points": 10,
     "schema_version": 3,
     "solution": true
    }
   },
   "source": [
    "YOUR ANSWER HERE"
   ]
  },
  {
   "cell_type": "markdown",
   "metadata": {
    "nbgrader": {
     "grade": false,
     "grade_id": "cell-eb312d06a4c6af3d",
     "locked": true,
     "schema_version": 3,
     "solution": false
    }
   },
   "source": [
    "**Question 6. (5 marks for each part)** Adjust your autopilot to work cope with:\n",
    "\n",
    "1. random vertical starting positions between 1500 and 3000m [5 marks]\n",
    "2. random changes in the initial vertical velocity ($-50 < v_y < 50$ m/s) [5 marks]\n",
    "3. different random Martian surfaces. [5 marks]\n",
    "\n",
    "To pass each of the three tests you need to achieve at least an 80% success rate over 20 trials. You should be able to find common values of $K_h$ and $K_p$ that work for all three tests."
   ]
  },
  {
   "cell_type": "code",
   "execution_count": 20,
   "metadata": {
    "nbgrader": {
     "grade": true,
     "grade_id": "cell-0c19a47cf851d26b",
     "locked": true,
     "points": 5,
     "schema_version": 3,
     "solution": false
    },
    "scrolled": false
   },
   "outputs": [
    {
     "name": "stdout",
     "output_type": "stream",
     "text": [
      "(X0, V0) = ([5162, 1999], [0.0, 0.0])\n",
      "(e, Pout, power) = (12.603581048790776, 2.5207162097581555, 2.5207162097581555)\n",
      "i=100 X=[5162.000 1825.334] V=[   0.000  -29.706] thrust=[   0.000    2.521] fuel= 192.596\n",
      "(e, Pout, power) = (19.184589982659304, 3.836917996531861, 3.836917996531861)\n",
      "i=200 X=[5162.000 1501.800] V=[   0.000  -32.923] thrust=[   0.000    3.837] fuel= 158.703\n",
      "(e, Pout, power) = (20.00365312088102, 4.000730624176204, 4.0)\n",
      "i=300 X=[5162.000 1183.354] V=[   0.000  -30.539] thrust=[   0.000    4.000] fuel= 119.209\n",
      "safe landing - well done!\n",
      "\n",
      "(X0, V0) = ([5162, 2602], [0.0, 0.0])\n",
      "(e, Pout, power) = (10.057330349724715, 2.011466069944943, 2.011466069944943)\n",
      "i=100 X=[5162.000 2419.653] V=[   0.000  -33.157] thrust=[   0.000    2.011] fuel= 196.047\n",
      "(e, Pout, power) = (19.065001418501744, 3.813000283700349, 3.813000283700349)\n",
      "i=200 X=[5162.000 2048.228] V=[   0.000  -38.275] thrust=[   0.000    3.813] fuel= 164.055\n",
      "(e, Pout, power) = (20.327199839736277, 4.065439967947255, 4.0)\n",
      "i=300 X=[5162.000 1676.592] V=[   0.000  -35.800] thrust=[   0.000    4.000] fuel= 124.470\n",
      "(e, Pout, power) = (20.874147207774243, 4.174829441554849, 4.0)\n",
      "i=400 X=[5162.000 1333.187] V=[   0.000  -32.910] thrust=[   0.000    4.000] fuel=  84.470\n",
      "safe landing - well done!\n",
      "\n",
      "(X0, V0) = ([5162, 2819], [0.0, 0.0])\n",
      "(e, Pout, power) = (8.917971494771386, 1.7835942989542772, 1.7835942989542772)\n",
      "i=100 X=[5162.000 2634.742] V=[   0.000  -34.192] thrust=[   0.000    1.784] fuel= 197.082\n",
      "(e, Pout, power) = (18.990105848466797, 3.7980211696933597, 3.7980211696933597)\n",
      "i=200 X=[5162.000 2246.866] V=[   0.000  -40.190] thrust=[   0.000    3.798] fuel= 165.970\n",
      "(e, Pout, power) = (20.453830915234693, 4.090766183046939, 4.0)\n",
      "i=300 X=[5162.000 1855.973] V=[   0.000  -37.722] thrust=[   0.000    4.000] fuel= 126.392\n",
      "(e, Pout, power) = (21.193013854680906, 4.238602770936182, 4.0)\n",
      "i=400 X=[5162.000 1493.343] V=[   0.000  -34.832] thrust=[   0.000    4.000] fuel=  86.392\n",
      "(e, Pout, power) = (21.643196794127114, 4.328639358825423, 4.0)\n",
      "i=500 X=[5162.000 1159.614] V=[   0.000  -31.942] thrust=[   0.000    4.000] fuel=  46.392\n",
      "safe landing - well done!\n",
      "\n",
      "(X0, V0) = ([5162, 2657], [0.0, 0.0])\n",
      "(e, Pout, power) = (9.781109080865992, 1.9562218161731986, 1.9562218161731986)\n",
      "i=100 X=[5162.000 2474.113] V=[   0.000  -33.431] thrust=[   0.000    1.956] fuel= 196.321\n",
      "(e, Pout, power) = (19.047817487785913, 3.809563497557183, 3.809563497557183)\n",
      "i=200 X=[5162.000 2098.473] V=[   0.000  -38.761] thrust=[   0.000    3.810] fuel= 164.541\n",
      "(e, Pout, power) = (20.35951176935738, 4.071902353871476, 4.0)\n",
      "i=300 X=[5162.000 1721.960] V=[   0.000  -36.286] thrust=[   0.000    4.000] fuel= 124.956\n",
      "(e, Pout, power) = (20.95510625912738, 4.191021251825476, 4.0)\n",
      "i=400 X=[5162.000 1373.689] V=[   0.000  -33.396] thrust=[   0.000    4.000] fuel=  84.956\n",
      "safe landing - well done!\n",
      "\n",
      "(X0, V0) = ([5162, 2718], [0.0, 0.0])\n",
      "(e, Pout, power) = (9.46440846457596, 1.8928816929151921, 1.8928816929151921)\n",
      "i=100 X=[5162.000 2534.561] V=[   0.000  -33.726] thrust=[   0.000    1.893] fuel= 196.616\n",
      "(e, Pout, power) = (19.027277385389834, 3.8054554770779667, 3.8054554770779667)\n",
      "i=200 X=[5162.000 2154.284] V=[   0.000  -39.300] thrust=[   0.000    3.805] fuel= 165.080\n",
      "(e, Pout, power) = (20.395186575336663, 4.079037315067333, 4.0)\n",
      "i=300 X=[5162.000 1772.358] V=[   0.000  -36.827] thrust=[   0.000    4.000] fuel= 125.497\n",
      "(e, Pout, power) = (21.044800703194497, 4.2089601406389, 4.0)\n",
      "i=400 X=[5162.000 1418.685] V=[   0.000  -33.937] thrust=[   0.000    4.000] fuel=  85.497\n",
      "safe landing - well done!\n",
      "\n",
      "(X0, V0) = ([5162, 2304], [0.0, 0.0])\n",
      "(e, Pout, power) = (11.421211758528678, 2.2842423517057355, 2.2842423517057355)\n",
      "i=100 X=[5162.000 2125.273] V=[   0.000  -31.548] thrust=[   0.000    2.284] fuel= 194.438\n",
      "(e, Pout, power) = (19.139135862327503, 3.8278271724655006, 3.8278271724655006)\n",
      "i=200 X=[5162.000 1777.155] V=[   0.000  -35.635] thrust=[   0.000    3.828] fuel= 161.415\n",
      "(e, Pout, power) = (20.154481031350905, 4.030896206270181, 4.0)\n",
      "i=300 X=[5162.000 1431.887] V=[   0.000  -33.178] thrust=[   0.000    4.000] fuel= 121.848\n",
      "safe landing - well done!\n",
      "\n",
      "(X0, V0) = ([5162, 2505], [0.0, 0.0])\n",
      "(e, Pout, power) = (10.52598750270468, 2.1051975005409362, 2.1051975005409362)\n",
      "i=100 X=[5162.000 2323.696] V=[   0.000  -32.656] thrust=[   0.000    2.105] fuel= 195.546\n",
      "(e, Pout, power) = (19.092661486216073, 3.8185322972432147, 3.8185322972432147)\n",
      "i=200 X=[5162.000 1959.771] V=[   0.000  -37.417] thrust=[   0.000    3.819] fuel= 163.197\n",
      "(e, Pout, power) = (20.270255750021406, 4.054051150004281, 4.0)\n",
      "i=300 X=[5162.000 1596.731] V=[   0.000  -34.944] thrust=[   0.000    4.000] fuel= 123.614\n",
      "(e, Pout, power) = (20.731561436277758, 4.146312287255552, 4.0)\n",
      "i=400 X=[5162.000 1261.889] V=[   0.000  -32.054] thrust=[   0.000    4.000] fuel=  83.614\n",
      "safe landing - well done!\n",
      "\n",
      "(X0, V0) = ([5162, 2523], [0.0, 0.0])\n",
      "(e, Pout, power) = (10.440525445275462, 2.0881050890550923, 2.0881050890550923)\n",
      "i=100 X=[5162.000 2341.495] V=[   0.000  -32.751] thrust=[   0.000    2.088] fuel= 195.641\n",
      "(e, Pout, power) = (19.087743924559685, 3.817548784911937, 3.817548784911937)\n",
      "i=200 X=[5162.000 1976.173] V=[   0.000  -37.576] thrust=[   0.000    3.818] fuel= 163.356\n",
      "(e, Pout, power) = (20.280787239946434, 4.056157447989287, 4.0)\n",
      "i=300 X=[5162.000 1611.538] V=[   0.000  -35.102] thrust=[   0.000    4.000] fuel= 123.772\n",
      "(e, Pout, power) = (20.757969366721607, 4.151593873344321, 4.0)\n",
      "i=400 X=[5162.000 1275.109] V=[   0.000  -32.212] thrust=[   0.000    4.000] fuel=  83.772\n",
      "safe landing - well done!\n",
      "\n",
      "(X0, V0) = ([5162, 2230], [0.0, 0.0])\n",
      "(e, Pout, power) = (11.72679871780402, 2.345359743560804, 2.345359743560804)\n",
      "i=100 X=[5162.000 2052.369] V=[   0.000  -31.118] thrust=[   0.000    2.345] fuel= 194.008\n",
      "(e, Pout, power) = (19.152824855585617, 3.8305649711171235, 3.8305649711171235)\n",
      "i=200 X=[5162.000 1710.153] V=[   0.000  -34.977] thrust=[   0.000    3.831] fuel= 160.757\n",
      "(e, Pout, power) = (20.11373993279213, 4.022747986558426, 4.0)\n",
      "i=300 X=[5162.000 1371.411] V=[   0.000  -32.531] thrust=[   0.000    4.000] fuel= 121.201\n",
      "safe landing - well done!\n",
      "\n",
      "(X0, V0) = ([5162, 2347], [0.0, 0.0])\n",
      "(e, Pout, power) = (11.23792217207837, 2.2475844344156743, 2.2475844344156743)\n",
      "i=100 X=[5162.000 2167.673] V=[   0.000  -31.793] thrust=[   0.000    2.248] fuel= 194.683\n",
      "(e, Pout, power) = (19.13036691354027, 3.8260733827080546, 3.8260733827080546)\n",
      "i=200 X=[5162.000 1816.145] V=[   0.000  -36.016] thrust=[   0.000    3.826] fuel= 161.796\n",
      "(e, Pout, power) = (20.17876444860129, 4.035752889720258, 4.0)\n",
      "i=300 X=[5162.000 1467.080] V=[   0.000  -33.554] thrust=[   0.000    4.000] fuel= 122.224\n",
      "(e, Pout, power) = (20.501131439627088, 4.100226287925418, 4.0)\n",
      "i=400 X=[5162.000 1146.132] V=[   0.000  -30.664] thrust=[   0.000    4.000] fuel=  82.224\n",
      "safe landing - well done!\n",
      "\n",
      "(X0, V0) = ([5162, 1512], [0.0, 0.0])\n",
      "(e, Pout, power) = (14.114213692267521, 2.822842738453504, 2.822842738453504)\n",
      "i=100 X=[5162.000 1349.619] V=[   0.000  -26.426] thrust=[   0.000    2.823] fuel= 189.316\n",
      "safe landing - well done!\n",
      "\n",
      "(X0, V0) = ([5162, 1970], [0.0, 0.0])\n",
      "(e, Pout, power) = (12.70567076656912, 2.5411341533138243, 2.5411341533138243)\n",
      "i=100 X=[5162.000 1796.893] V=[   0.000  -29.521] thrust=[   0.000    2.541] fuel= 192.411\n",
      "(e, Pout, power) = (19.187445305707005, 3.837489061141401, 3.837489061141401)\n",
      "i=200 X=[5162.000 1475.731] V=[   0.000  -32.665] thrust=[   0.000    3.837] fuel= 158.445\n",
      "(e, Pout, power) = (19.993058824225397, 3.9986117648450796, 3.9986117648450796)\n",
      "i=300 X=[5162.000 1159.826] V=[   0.000  -30.293] thrust=[   0.000    3.999] fuel= 118.963\n",
      "safe landing - well done!\n",
      "\n",
      "(X0, V0) = ([5162, 2877], [0.0, 0.0])\n",
      "(e, Pout, power) = (8.58988706828034, 1.7179774136560682, 1.7179774136560682)\n",
      "i=100 X=[5162.000 2692.328] V=[   0.000  -34.447] thrust=[   0.000    1.718] fuel= 197.337\n",
      "(e, Pout, power) = (18.966709766716527, 3.7933419533433055, 3.7933419533433055)\n",
      "i=200 X=[5162.000 2300.140] V=[   0.000  -40.701] thrust=[   0.000    3.793] fuel= 166.481\n",
      "(e, Pout, power) = (20.487054972640372, 4.097410994528075, 4.0)\n",
      "i=300 X=[5162.000 1904.095] V=[   0.000  -38.237] thrust=[   0.000    4.000] fuel= 126.907\n",
      "(e, Pout, power) = (21.277734502340095, 4.255546900468019, 4.0)\n",
      "i=400 X=[5162.000 1536.316] V=[   0.000  -35.347] thrust=[   0.000    4.000] fuel=  86.907\n",
      "(e, Pout, power) = (21.779414032039828, 4.3558828064079655, 4.0)\n",
      "i=500 X=[5162.000 1197.437] V=[   0.000  -32.457] thrust=[   0.000    4.000] fuel=  46.907\n",
      "safe landing - well done!\n",
      "\n",
      "(X0, V0) = ([5162, 2412], [0.0, 0.0])\n",
      "(e, Pout, power) = (10.95208788695735, 2.1904175773914702, 2.1904175773914702)\n",
      "i=100 X=[5162.000 2231.819] V=[   0.000  -32.154] thrust=[   0.000    2.190] fuel= 195.044\n",
      "(e, Pout, power) = (19.11586137715924, 3.8231722754318485, 3.8231722754318485)\n",
      "i=200 X=[5162.000 1875.167] V=[   0.000  -36.593] thrust=[   0.000    3.823] fuel= 162.373\n",
      "(e, Pout, power) = (20.21605808775859, 4.0432116175517185, 4.0)\n",
      "i=300 X=[5162.000 1520.357] V=[   0.000  -34.125] thrust=[   0.000    4.000] fuel= 122.795\n",
      "(e, Pout, power) = (20.59548810615103, 4.119097621230206, 4.0)\n",
      "i=400 X=[5162.000 1193.703] V=[   0.000  -31.235] thrust=[   0.000    4.000] fuel=  82.795\n",
      "safe landing - well done!\n",
      "\n",
      "(X0, V0) = ([5162, 2613], [0.0, 0.0])\n",
      "(e, Pout, power) = (10.00283447560728, 2.000566895121456, 2.000566895121456)\n",
      "i=100 X=[5162.000 2430.541] V=[   0.000  -33.213] thrust=[   0.000    2.001] fuel= 196.103\n",
      "(e, Pout, power) = (19.061671745378398, 3.81233434907568, 3.81233434907568)\n",
      "i=200 X=[5162.000 2058.271] V=[   0.000  -38.373] thrust=[   0.000    3.812] fuel= 164.153\n",
      "(e, Pout, power) = (20.333670033056592, 4.066734006611319, 4.0)\n",
      "i=300 X=[5162.000 1685.660] V=[   0.000  -35.897] thrust=[   0.000    4.000] fuel= 124.567\n",
      "(e, Pout, power) = (20.890341601028148, 4.17806832020563, 4.0)\n",
      "i=400 X=[5162.000 1341.282] V=[   0.000  -33.007] thrust=[   0.000    4.000] fuel=  84.567\n",
      "safe landing - well done!\n",
      "\n",
      "(X0, V0) = ([5162, 1511], [0.0, 0.0])\n",
      "(e, Pout, power) = (14.116892720307092, 2.8233785440614185, 2.8233785440614185)\n",
      "i=100 X=[5162.000 1348.647] V=[   0.000  -26.419] thrust=[   0.000    2.823] fuel= 189.309\n",
      "safe landing - well done!\n",
      "\n",
      "(X0, V0) = ([5162, 2452], [0.0, 0.0])\n",
      "(e, Pout, power) = (10.77131787880866, 2.154263575761732, 2.154263575761732)\n"
     ]
    },
    {
     "name": "stdout",
     "output_type": "stream",
     "text": [
      "i=100 X=[5162.000 2271.322] V=[   0.000  -32.373] thrust=[   0.000    2.154] fuel= 195.263\n",
      "(e, Pout, power) = (19.106239745347857, 3.8212479490695714, 3.8212479490695714)\n",
      "i=200 X=[5162.000 1911.533] V=[   0.000  -36.947] thrust=[   0.000    3.821] fuel= 162.727\n",
      "(e, Pout, power) = (20.23926770374891, 4.047853540749783, 4.0)\n",
      "i=300 X=[5162.000 1553.185] V=[   0.000  -34.477] thrust=[   0.000    4.000] fuel= 123.147\n",
      "(e, Pout, power) = (20.653881676799273, 4.130776335359855, 4.0)\n",
      "i=400 X=[5162.000 1223.012] V=[   0.000  -31.587] thrust=[   0.000    4.000] fuel=  83.147\n",
      "safe landing - well done!\n",
      "\n",
      "(X0, V0) = ([5162, 2385], [0.0, 0.0])\n",
      "(e, Pout, power) = (11.07230219722005, 2.2144604394440104, 2.2144604394440104)\n",
      "i=100 X=[5162.000 2205.165] V=[   0.000  -32.006] thrust=[   0.000    2.214] fuel= 194.896\n",
      "(e, Pout, power) = (19.122098303937683, 3.824419660787537, 3.824419660787537)\n",
      "i=200 X=[5162.000 1850.636] V=[   0.000  -36.353] thrust=[   0.000    3.824] fuel= 162.133\n",
      "(e, Pout, power) = (20.20049981188911, 4.040099962377822, 4.0)\n",
      "i=300 X=[5162.000 1498.213] V=[   0.000  -33.888] thrust=[   0.000    4.000] fuel= 122.558\n",
      "(e, Pout, power) = (20.55620696357191, 4.1112413927143825, 4.0)\n",
      "i=400 X=[5162.000 1173.932] V=[   0.000  -30.998] thrust=[   0.000    4.000] fuel=  82.558\n",
      "safe landing - well done!\n",
      "\n",
      "(X0, V0) = ([5162, 2047], [0.0, 0.0])\n",
      "(e, Pout, power) = (12.430398174727767, 2.4860796349455536, 2.4860796349455536)\n",
      "i=100 X=[5162.000 1872.442] V=[   0.000  -30.007] thrust=[   0.000    2.486] fuel= 192.897\n",
      "(e, Pout, power) = (19.179267760179595, 3.8358535520359194, 3.8358535520359194)\n",
      "i=200 X=[5162.000 1544.996] V=[   0.000  -33.350] thrust=[   0.000    3.836] fuel= 159.130\n",
      "(e, Pout, power) = (20.0231310065485, 4.0046262013097005, 4.0)\n",
      "i=300 X=[5162.000 1222.343] V=[   0.000  -30.949] thrust=[   0.000    4.000] fuel= 119.619\n",
      "safe landing - well done!\n",
      "\n",
      "(X0, V0) = ([5162, 2394], [0.0, 0.0])\n",
      "(e, Pout, power) = (11.032241775113945, 2.2064483550227894, 2.2064483550227894)\n",
      "i=100 X=[5162.000 2214.050] V=[   0.000  -32.055] thrust=[   0.000    2.206] fuel= 194.945\n",
      "(e, Pout, power) = (19.120020899431424, 3.824004179886285, 3.824004179886285)\n",
      "i=200 X=[5162.000 1858.813] V=[   0.000  -36.433] thrust=[   0.000    3.824] fuel= 162.213\n",
      "(e, Pout, power) = (20.205669559863978, 4.041133911972795, 4.0)\n",
      "i=300 X=[5162.000 1505.594] V=[   0.000  -33.967] thrust=[   0.000    4.000] fuel= 122.637\n",
      "(e, Pout, power) = (20.569282659040667, 4.113856531808134, 4.0)\n",
      "i=400 X=[5162.000 1180.522] V=[   0.000  -31.077] thrust=[   0.000    4.000] fuel=  82.637\n",
      "safe landing - well done!\n",
      "\n",
      "count / trials = 1.0\n"
     ]
    },
    {
     "data": {
      "text/plain": [
       "\u001b[32m\u001b[1mTest Passed\u001b[22m\u001b[39m"
      ]
     },
     "execution_count": 20,
     "metadata": {},
     "output_type": "execute_result"
    }
   ],
   "source": [
    "# Test 1. Random vertical starting positions\n",
    "Random.seed!(123) # seed random number generator for reproducible results\n",
    "land, landing_site = mars_surface()\n",
    "\n",
    "trials = 20\n",
    "count = 0\n",
    "for i=1:trials\n",
    "    X0 = [(land[landing_site+1, 1] + land[landing_site, 1])÷2, rand(1500:3000)]\n",
    "    V0 = [0., 0.]\n",
    "    @show X0, V0\n",
    "    Xs, Vs, thrust, success = simulate(X0, V0, land, landing_site; dt=0.1, Nstep=2000, \n",
    "                                       autopilot=proportional_autopilot, fuel=200)\n",
    "    count += success\n",
    "    println()\n",
    "end\n",
    "\n",
    "@show count/trials\n",
    "@test count/trials > 0.8 # require 80% success rate"
   ]
  },
  {
   "cell_type": "code",
   "execution_count": 21,
   "metadata": {
    "nbgrader": {
     "grade": true,
     "grade_id": "cell-91ba74c3503423a1",
     "locked": true,
     "points": 5,
     "schema_version": 3,
     "solution": false
    },
    "scrolled": false
   },
   "outputs": [
    {
     "name": "stdout",
     "output_type": "stream",
     "text": [
      "(X0, V0) = ([5162, 2000], [0.0, -11.0])\n",
      "(e, Pout, power) = (15.954551917441172, 3.1909103834882346, 3.1909103834882346)\n",
      "i=100 X=[5162.000 1750.258] V=[   0.000  -32.241] thrust=[   0.000    3.191] fuel= 184.131\n",
      "(e, Pout, power) = (19.639332189500553, 3.9278664379001107, 3.9278664379001107)\n",
      "i=200 X=[5162.000 1420.539] V=[   0.000  -32.556] thrust=[   0.000    3.928] fuel= 147.336\n",
      "safe landing - well done!\n",
      "\n",
      "(X0, V0) = ([5162, 2000], [0.0, 35.0])\n",
      "(e, Pout, power) = (-18.58915500000008, -3.7178310000000163, 0.0)\n",
      "i=100 X=[5162.000 2162.595] V=[   0.000   -2.110] thrust=[   0.000    0.000] fuel= 200.000\n",
      "(e, Pout, power) = (12.871959930763136, 2.5743919861526274, 2.5743919861526274)\n",
      "i=200 X=[5162.000 1969.028] V=[   0.000  -31.407] thrust=[   0.000    2.574] fuel= 192.187\n",
      "(e, Pout, power) = (19.28396949291647, 3.856793898583294, 3.856793898583294)\n",
      "i=300 X=[5162.000 1630.345] V=[   0.000  -34.307] thrust=[   0.000    3.857] fuel= 157.977\n",
      "(e, Pout, power) = (20.09557448159498, 4.019114896318996, 4.0)\n",
      "i=400 X=[5162.000 1298.888] V=[   0.000  -31.787] thrust=[   0.000    4.000] fuel= 118.347\n",
      "safe landing - well done!\n",
      "\n",
      "(X0, V0) = ([5162, 2000], [0.0, 28.0])\n",
      "(e, Pout, power) = (-10.896155000000048, -2.17923100000001, 0.0)\n",
      "i=100 X=[5162.000 2092.595] V=[   0.000   -9.110] thrust=[   0.000    0.000] fuel= 200.000\n",
      "(e, Pout, power) = (15.314829230503967, 3.0629658461007936, 3.0629658461007936)\n",
      "i=200 X=[5162.000 1850.930] V=[   0.000  -32.622] thrust=[   0.000    3.063] fuel= 186.402\n",
      "(e, Pout, power) = (19.58882855496779, 3.9177657109935584, 3.9177657109935584)\n",
      "i=300 X=[5162.000 1513.940] V=[   0.000  -33.441] thrust=[   0.000    3.918] fuel= 150.111\n",
      "(e, Pout, power) = (20.103301112277684, 4.020660222455537, 4.0)\n",
      "i=400 X=[5162.000 1192.613] V=[   0.000  -30.731] thrust=[   0.000    4.000] fuel= 110.291\n",
      "safe landing - well done!\n",
      "\n",
      "(X0, V0) = ([5162, 2000], [0.0, -11.0])\n",
      "(e, Pout, power) = (15.954551917441172, 3.1909103834882346, 3.1909103834882346)\n",
      "i=100 X=[5162.000 1750.258] V=[   0.000  -32.241] thrust=[   0.000    3.191] fuel= 184.131\n",
      "(e, Pout, power) = (19.639332189500553, 3.9278664379001107, 3.9278664379001107)\n",
      "i=200 X=[5162.000 1420.539] V=[   0.000  -32.556] thrust=[   0.000    3.928] fuel= 147.336\n",
      "safe landing - well done!\n",
      "\n",
      "(X0, V0) = ([5162, 2000], [0.0, -45.0])\n",
      "(e, Pout, power) = (27.75084499999998, 5.550168999999997, 4.0)\n",
      "i=100 X=[5162.000 1564.595] V=[   0.000  -42.110] thrust=[   0.000    4.000] fuel= 160.000\n",
      "(e, Pout, power) = (28.928789999999964, 5.785757999999993, 4.0)\n",
      "i=200 X=[5162.000 1158.089] V=[   0.000  -39.220] thrust=[   0.000    4.000] fuel= 120.000\n",
      "safe landing - well done!\n",
      "\n",
      "(X0, V0) = ([5162, 2000], [0.0, 16.0])\n",
      "(e, Pout, power) = (2.1826818788225175, 0.43653637576450355, 0.43653637576450355)\n",
      "i=100 X=[5162.000 1972.635] V=[   0.000  -20.957] thrust=[   0.000    0.437] fuel= 199.847\n",
      "(e, Pout, power) = (17.734187443909565, 3.546837488781913, 3.546837488781913)\n",
      "i=200 X=[5162.000 1676.772] V=[   0.000  -33.252] thrust=[   0.000    3.547] fuel= 175.032\n",
      "(e, Pout, power) = (19.866700055715754, 3.9733400111431507, 3.9733400111431507)\n",
      "i=300 X=[5162.000 1347.058] V=[   0.000  -32.043] thrust=[   0.000    3.973] fuel= 136.713\n",
      "safe landing - well done!\n",
      "\n",
      "(X0, V0) = ([5162, 2000], [0.0, -14.0])\n",
      "(e, Pout, power) = (16.57533121635788, 3.3150662432715765, 3.3150662432715765)\n",
      "i=100 X=[5162.000 1733.804] V=[   0.000  -32.686] thrust=[   0.000    3.315] fuel= 181.576\n",
      "(e, Pout, power) = (19.722504010038847, 3.9445008020077696, 3.9445008020077696)\n",
      "i=200 X=[5162.000 1403.188] V=[   0.000  -32.463] thrust=[   0.000    3.945] fuel= 144.243\n",
      "safe landing - well done!\n",
      "\n",
      "(X0, V0) = ([5162, 2000], [0.0, 40.0])\n",
      "(e, Pout, power) = (-24.084155000000102, -4.816831000000021, 0.0)\n",
      "i=100 X=[5162.000 2212.595] V=[   0.000    2.890] thrust=[   0.000    0.000] fuel= 200.000\n",
      "(e, Pout, power) = (10.381358235801674, 2.076271647160335, 2.076271647160335)\n",
      "i=200 X=[5162.000 2059.984] V=[   0.000  -29.875] thrust=[   0.000    2.076] fuel= 195.655\n",
      "(e, Pout, power) = (18.960768055768348, 3.79215361115367, 3.79215361115367)\n",
      "i=300 X=[5162.000 1722.457] V=[   0.000  -34.912] thrust=[   0.000    3.792] fuel= 163.582\n",
      "(e, Pout, power) = (20.076765322607383, 4.015353064521476, 4.0)\n",
      "i=400 X=[5162.000 1383.306] V=[   0.000  -32.614] thrust=[   0.000    4.000] fuel= 124.174\n",
      "safe landing - well done!\n",
      "\n",
      "(X0, V0) = ([5162, 2000], [0.0, 22.0])\n",
      "(e, Pout, power) = (-4.302155000000008, -0.8604310000000016, 0.0)\n",
      "i=100 X=[5162.000 2032.594] V=[   0.000  -15.110] thrust=[   0.000    0.000] fuel= 200.000\n",
      "(e, Pout, power) = (16.735783574228318, 3.3471567148456636, 3.3471567148456636)\n",
      "i=200 X=[5162.000 1759.222] V=[   0.000  -33.097] thrust=[   0.000    3.347] fuel= 180.877\n",
      "(e, Pout, power) = (19.7564792833023, 3.9512958566604603, 3.9512958566604603)\n",
      "i=300 X=[5162.000 1425.469] V=[   0.000  -32.720] thrust=[   0.000    3.951] fuel= 143.390\n",
      "safe landing - well done!\n",
      "\n",
      "(X0, V0) = ([5162, 2000], [0.0, 29.0])\n",
      "(e, Pout, power) = (-11.995155000000043, -2.399031000000009, 0.0)\n",
      "i=100 X=[5162.000 2102.594] V=[   0.000   -8.110] thrust=[   0.000    0.000] fuel= 200.000\n",
      "(e, Pout, power) = (15.025073228953318, 3.0050146457906637, 3.0050146457906637)\n",
      "i=200 X=[5162.000 1867.088] V=[   0.000  -32.499] thrust=[   0.000    3.005] fuel= 187.279\n",
      "(e, Pout, power) = (19.55357273469799, 3.910714546939598, 3.910714546939598)\n",
      "i=300 X=[5162.000 1529.687] V=[   0.000  -33.564] thrust=[   0.000    3.911] fuel= 151.234\n",
      "(e, Pout, power) = (20.103337697938848, 4.02066753958777, 4.0)\n",
      "i=400 X=[5162.000 1206.966] V=[   0.000  -30.875] thrust=[   0.000    4.000] fuel= 111.435\n",
      "safe landing - well done!\n",
      "\n",
      "(X0, V0) = ([5162, 2000], [0.0, -38.0])\n",
      "(e, Pout, power) = (20.36817980325698, 4.073635960651396, 4.0)\n",
      "i=100 X=[5162.000 1632.139] V=[   0.000  -35.396] thrust=[   0.000    4.000] fuel= 160.286\n",
      "(e, Pout, power) = (20.8747317635491, 4.17494635270982, 4.0)\n",
      "i=200 X=[5162.000 1292.773] V=[   0.000  -32.506] thrust=[   0.000    4.000] fuel= 120.286\n",
      "safe landing - well done!\n",
      "\n",
      "(X0, V0) = ([5162, 2000], [0.0, -37.0])\n",
      "(e, Pout, power) = (20.08924356537122, 4.017848713074244, 4.0)\n",
      "i=100 X=[5162.000 1636.528] V=[   0.000  -35.161] thrust=[   0.000    4.000] fuel= 161.051\n",
      "(e, Pout, power) = (20.57226720220422, 4.114453440440844, 4.0)\n",
      "i=200 X=[5162.000 1299.515] V=[   0.000  -32.271] thrust=[   0.000    4.000] fuel= 121.051\n",
      "safe landing - well done!\n",
      "\n",
      "(X0, V0) = ([5162, 2000], [0.0, 36.0])\n",
      "(e, Pout, power) = (-19.68815500000008, -3.937631000000016, 0.0)\n",
      "i=100 X=[5162.000 2172.595] V=[   0.000   -1.110] thrust=[   0.000    0.000] fuel= 200.000\n",
      "(e, Pout, power) = (12.43185862534639, 2.486371725069278, 2.486371725069278)\n",
      "i=200 X=[5162.000 1986.809] V=[   0.000  -31.154] thrust=[   0.000    2.486] fuel= 192.934\n",
      "(e, Pout, power) = (19.22757675377098, 3.845515350754196, 3.845515350754196)\n",
      "i=300 X=[5162.000 1648.163] V=[   0.000  -34.430] thrust=[   0.000    3.846] fuel= 159.100\n",
      "(e, Pout, power) = (20.092790736977456, 4.018558147395491, 4.0)\n",
      "i=400 X=[5162.000 1315.194] V=[   0.000  -31.948] thrust=[   0.000    4.000] fuel= 119.508\n",
      "safe landing - well done!\n",
      "\n",
      "(X0, V0) = ([5162, 2000], [0.0, 47.0])\n",
      "(e, Pout, power) = (-31.777155000000135, -6.355431000000028, 0.0)\n",
      "i=100 X=[5162.000 2282.595] V=[   0.000    9.890] thrust=[   0.000    0.000] fuel= 200.000\n",
      "(e, Pout, power) = (5.350328566411164, 1.0700657132822329, 1.0700657132822329)\n",
      "i=200 X=[5162.000 2194.651] V=[   0.000  -26.287] thrust=[   0.000    1.070] fuel= 199.067\n",
      "(e, Pout, power) = (18.287265880606917, 3.6574531761213835, 3.6574531761213835)\n",
      "i=300 X=[5162.000 1864.262] V=[   0.000  -35.671] thrust=[   0.000    3.657] fuel= 171.341\n",
      "(e, Pout, power) = (20.026976838856978, 4.005395367771396, 4.0)\n",
      "i=400 X=[5162.000 1513.961] V=[   0.000  -33.872] thrust=[   0.000    4.000] fuel= 132.432\n",
      "(e, Pout, power) = (20.381077687353564, 4.076215537470713, 4.0)\n",
      "i=500 X=[5162.000 1189.840] V=[   0.000  -30.982] thrust=[   0.000    4.000] fuel=  92.432\n",
      "safe landing - well done!\n",
      "\n",
      "(X0, V0) = ([5162, 2000], [0.0, -34.0])\n",
      "(e, Pout, power) = (19.634692292678107, 3.9269384585356217, 3.9269384585356217)\n",
      "i=100 X=[5162.000 1648.887] V=[   0.000  -34.837] thrust=[   0.000    3.927] fuel= 163.727\n",
      "(e, Pout, power) = (20.2303356916999, 4.04606713833998, 4.0)\n",
      "i=200 X=[5162.000 1314.002] V=[   0.000  -32.074] thrust=[   0.000    4.000] fuel= 123.854\n",
      "safe landing - well done!\n",
      "\n",
      "(X0, V0) = ([5162, 2000], [0.0, 39.0])\n",
      "(e, Pout, power) = (-22.985155000000095, -4.597031000000019, 0.0)\n",
      "i=100 X=[5162.000 2202.595] V=[   0.000    1.890] thrust=[   0.000    0.000] fuel= 200.000\n",
      "(e, Pout, power) = (10.941195356418444, 2.188239071283689, 2.188239071283689)\n",
      "i=200 X=[5162.000 2041.396] V=[   0.000  -30.238] thrust=[   0.000    2.188] fuel= 195.018\n",
      "(e, Pout, power) = (19.034198391461377, 3.8068396782922758, 3.8068396782922758)\n",
      "i=300 X=[5162.000 1703.427] V=[   0.000  -34.794] thrust=[   0.000    3.807] fuel= 162.464\n",
      "(e, Pout, power) = (20.08154214521852, 4.016308429043704, 4.0)\n",
      "i=400 X=[5162.000 1365.840] V=[   0.000  -32.443] thrust=[   0.000    4.000] fuel= 123.003\n",
      "safe landing - well done!\n",
      "\n",
      "(X0, V0) = ([5162, 2000], [0.0, -39.0])\n",
      "(e, Pout, power) = (21.15684499999999, 4.231368999999998, 4.0)\n",
      "i=100 X=[5162.000 1624.594] V=[   0.000  -36.110] thrust=[   0.000    4.000] fuel= 160.000\n",
      "(e, Pout, power) = (21.734789999999972, 4.3469579999999945, 4.0)\n",
      "i=200 X=[5162.000 1278.089] V=[   0.000  -33.220] thrust=[   0.000    4.000] fuel= 120.000\n",
      "safe landing - well done!\n",
      "\n",
      "(X0, V0) = ([5162, 2000], [0.0, 6.0])\n",
      "(e, Pout, power) = (9.723710680332484, 1.944742136066497, 1.944742136066497)\n",
      "i=100 X=[5162.000 1877.213] V=[   0.000  -27.400] thrust=[   0.000    1.945] fuel= 196.290\n",
      "(e, Pout, power) = (18.788461943865855, 3.757692388773171, 3.757692388773171)\n",
      "i=200 X=[5162.000 1560.233] V=[   0.000  -33.119] thrust=[   0.000    3.758] fuel= 164.899\n",
      "(e, Pout, power) = (19.97069285459281, 3.9941385709185617, 3.9941385709185617)\n",
      "i=300 X=[5162.000 1237.667] V=[   0.000  -31.050] thrust=[   0.000    3.994] fuel= 125.720\n",
      "safe landing - well done!\n",
      "\n",
      "(X0, V0) = ([5162, 2000], [0.0, -5.0])\n",
      "(e, Pout, power) = (14.371711445161814, 2.874342289032363, 2.874342289032363)\n",
      "i=100 X=[5162.000 1788.780] V=[   0.000  -31.074] thrust=[   0.000    2.874] fuel= 188.964\n",
      "(e, Pout, power) = (19.425820033933505, 3.885164006786701, 3.885164006786701)\n"
     ]
    },
    {
     "name": "stdout",
     "output_type": "stream",
     "text": [
      "i=200 X=[5162.000 1461.682] V=[   0.000  -32.758] thrust=[   0.000    3.885] fuel= 153.538\n",
      "(e, Pout, power) = (20.0255837302786, 4.00511674605572, 4.0)\n",
      "i=300 X=[5162.000 1146.187] V=[   0.000  -30.189] thrust=[   0.000    4.000] fuel= 113.859\n",
      "safe landing - well done!\n",
      "\n",
      "(X0, V0) = ([5162, 2000], [0.0, -15.0])\n",
      "(e, Pout, power) = (16.76130466223959, 3.352260932447918, 3.352260932447918)\n",
      "i=100 X=[5162.000 1728.746] V=[   0.000  -32.817] thrust=[   0.000    3.352] fuel= 180.707\n",
      "(e, Pout, power) = (19.74736642545788, 3.9494732850915764, 3.9494732850915764)\n",
      "i=200 X=[5162.000 1397.873] V=[   0.000  -32.435] thrust=[   0.000    3.949] fuel= 143.215\n",
      "safe landing - well done!\n",
      "\n",
      "count / trials = 1.0\n"
     ]
    },
    {
     "data": {
      "text/plain": [
       "\u001b[32m\u001b[1mTest Passed\u001b[22m\u001b[39m"
      ]
     },
     "execution_count": 21,
     "metadata": {},
     "output_type": "execute_result"
    }
   ],
   "source": [
    "# Test 2 - random initial vertical velocity\n",
    "\n",
    "Random.seed!(123) # seed random number generator for reproducible results\n",
    "land, landing_site = mars_surface()\n",
    "\n",
    "trials = 20\n",
    "count = 0\n",
    "for i=1:trials\n",
    "    X0 = [(land[landing_site+1, 1] + land[landing_site, 1])÷2, 2000]\n",
    "    V0 = [0., rand(-50:50)]  \n",
    "    @show X0, V0\n",
    "    Xs, Vs, thrust, success = simulate(X0, V0, land, landing_site; dt=0.1, Nstep=2000, \n",
    "                                       autopilot=proportional_autopilot, fuel=200)\n",
    "    count += success\n",
    "    println()\n",
    "end\n",
    "\n",
    "@show count/trials\n",
    "@test count/trials > 0.8 # require 80% success rate"
   ]
  },
  {
   "cell_type": "code",
   "execution_count": 22,
   "metadata": {
    "nbgrader": {
     "grade": true,
     "grade_id": "cell-fc08c836395ce2c6",
     "locked": true,
     "points": 5,
     "schema_version": 3,
     "solution": false
    },
    "scrolled": false
   },
   "outputs": [
    {
     "name": "stdout",
     "output_type": "stream",
     "text": [
      "(X0, V0) = ([5162, 2000], [0.0, 0.0])\n",
      "(e, Pout, power) = (12.599996569874385, 2.519999313974877, 2.519999313974877)\n",
      "i=100 X=[5162.000 1826.315] V=[   0.000  -29.712] thrust=[   0.000    2.520] fuel= 192.602\n",
      "(e, Pout, power) = (19.184482434787494, 3.836896486957499, 3.836896486957499)\n",
      "i=200 X=[5162.000 1502.699] V=[   0.000  -32.932] thrust=[   0.000    3.837] fuel= 158.712\n",
      "(e, Pout, power) = (20.004030319211584, 4.000806063842317, 4.0)\n",
      "i=300 X=[5162.000 1184.166] V=[   0.000  -30.547] thrust=[   0.000    4.000] fuel= 119.217\n",
      "safe landing - well done!\n",
      "\n",
      "(X0, V0) = ([4288, 2000], [0.0, 0.0])\n",
      "(e, Pout, power) = (13.240671441704468, 2.6481342883408936, 2.6481342883408936)\n",
      "i=100 X=[4288.000 1830.224] V=[   0.000  -28.478] thrust=[   0.000    2.648] fuel= 191.368\n",
      "(e, Pout, power) = (19.199200993015737, 3.8398401986031474, 3.8398401986031474)\n",
      "i=200 X=[4288.000 1522.236] V=[   0.000  -31.240] thrust=[   0.000    3.840] fuel= 157.020\n",
      "safe landing - well done!\n",
      "\n",
      "(X0, V0) = ([3618, 2000], [0.0, 0.0])\n",
      "(e, Pout, power) = (11.937806599366144, 2.387561319873229, 2.387561319873229)\n",
      "i=100 X=[3618.000 1823.207] V=[   0.000  -30.803] thrust=[   0.000    2.388] fuel= 193.693\n",
      "(e, Pout, power) = (19.16151093202614, 3.832302186405228, 3.832302186405228)\n",
      "i=200 X=[3618.000 1485.244] V=[   0.000  -34.506] thrust=[   0.000    3.832] fuel= 160.286\n",
      "(e, Pout, power) = (20.08567268440603, 4.017134536881207, 4.0)\n",
      "i=300 X=[3618.000 1151.169] V=[   0.000  -32.071] thrust=[   0.000    4.000] fuel= 120.741\n",
      "safe landing - well done!\n",
      "\n",
      "(X0, V0) = ([4108, 2000], [0.0, 0.0])\n",
      "(e, Pout, power) = (12.074056142705118, 2.4148112285410237, 2.4148112285410237)\n",
      "i=100 X=[4108.000 1823.782] V=[   0.000  -30.592] thrust=[   0.000    2.415] fuel= 193.482\n",
      "(e, Pout, power) = (19.16680697404157, 3.833361394808314, 3.833361394808314)\n",
      "i=200 X=[4108.000 1488.639] V=[   0.000  -34.195] thrust=[   0.000    3.833] fuel= 159.975\n",
      "(e, Pout, power) = (20.067813432780845, 4.0135626865561695, 4.0)\n",
      "i=300 X=[4108.000 1157.643] V=[   0.000  -31.767] thrust=[   0.000    4.000] fuel= 120.437\n",
      "safe landing - well done!\n",
      "\n",
      "(X0, V0) = ([3029, 2000], [0.0, 0.0])\n",
      "(e, Pout, power) = (9.943039524952702, 1.9886079049905405, 1.9886079049905405)\n",
      "i=100 X=[3029.000 1817.421] V=[   0.000  -33.273] thrust=[   0.000    1.989] fuel= 196.163\n",
      "(e, Pout, power) = (19.057990009459207, 3.8115980018918414, 3.8115980018918414)\n",
      "i=200 X=[3029.000 1444.230] V=[   0.000  -38.479] thrust=[   0.000    3.812] fuel= 164.259\n",
      "(e, Pout, power) = (20.340713482091733, 4.068142696418347, 4.0)\n",
      "i=300 X=[3029.000 1070.554] V=[   0.000  -36.003] thrust=[   0.000    4.000] fuel= 124.673\n",
      "(e, Pout, power) = (20.90799458921912, 4.181598917843824, 4.0)\n",
      "i=400 X=[3029.000  725.115] V=[   0.000  -33.113] thrust=[   0.000    4.000] fuel=  84.673\n",
      "safe landing - well done!\n",
      "\n",
      "(X0, V0) = ([5165, 2000], [0.0, 0.0])\n",
      "(e, Pout, power) = (13.08193420736723, 2.616386841473446, 2.616386841473446)\n",
      "i=100 X=[5165.000 1829.158] V=[   0.000  -28.802] thrust=[   0.000    2.616] fuel= 191.692\n",
      "(e, Pout, power) = (19.196322799138535, 3.8392645598277073, 3.8392645598277073)\n",
      "i=200 X=[5165.000 1517.120] V=[   0.000  -31.676] thrust=[   0.000    3.839] fuel= 157.456\n",
      "safe landing - well done!\n",
      "\n",
      "(X0, V0) = ([4999, 2000], [0.0, 0.0])\n",
      "(e, Pout, power) = (13.234253202276054, 2.6468506404552112, 2.6468506404552112)\n",
      "i=100 X=[4999.000 1830.180] V=[   0.000  -28.491] thrust=[   0.000    2.647] fuel= 191.381\n",
      "(e, Pout, power) = (19.19909210865055, 3.83981842173011, 3.83981842173011)\n",
      "i=200 X=[4999.000 1522.026] V=[   0.000  -31.258] thrust=[   0.000    3.840] fuel= 157.038\n",
      "safe landing - well done!\n",
      "\n",
      "(X0, V0) = ([3532, 2000], [0.0, 0.0])\n",
      "(e, Pout, power) = (9.050115134881054, 1.8100230269762108, 1.8100230269762108)\n",
      "i=100 X=[3532.000 1815.928] V=[   0.000  -34.084] thrust=[   0.000    1.810] fuel= 196.974\n",
      "(e, Pout, power) = (18.99926812538301, 3.7998536250766026, 3.7998536250766026)\n",
      "i=200 X=[3532.000 1429.848] V=[   0.000  -39.979] thrust=[   0.000    3.800] fuel= 165.759\n",
      "(e, Pout, power) = (20.439951455174, 4.0879902910348, 4.0)\n",
      "i=300 X=[3532.000 1041.086] V=[   0.000  -37.509] thrust=[   0.000    4.000] fuel= 126.179\n",
      "(e, Pout, power) = (21.157838989304594, 4.231567797860919, 4.0)\n",
      "i=400 X=[3532.000  680.587] V=[   0.000  -34.619] thrust=[   0.000    4.000] fuel=  86.179\n",
      "(e, Pout, power) = (21.58672652343519, 4.317345304687038, 4.0)\n",
      "i=500 X=[3532.000  348.987] V=[   0.000  -31.729] thrust=[   0.000    4.000] fuel=  46.179\n",
      "safe landing - well done!\n",
      "\n",
      "(X0, V0) = ([4684, 2000], [0.0, 0.0])\n",
      "(e, Pout, power) = (9.110680969931309, 1.822136193986262, 1.822136193986262)\n",
      "i=100 X=[4684.000 1816.013] V=[   0.000  -34.034] thrust=[   0.000    1.822] fuel= 196.924\n",
      "(e, Pout, power) = (19.003467502302946, 3.8006935004605893, 3.8006935004605893)\n",
      "i=200 X=[4684.000 1430.757] V=[   0.000  -39.882] thrust=[   0.000    3.801] fuel= 165.662\n",
      "(e, Pout, power) = (20.433590035979503, 4.086718007195901, 4.0)\n",
      "i=300 X=[4684.000 1042.972] V=[   0.000  -37.412] thrust=[   0.000    4.000] fuel= 126.082\n",
      "(e, Pout, power) = (21.141717176007106, 4.228343435201421, 4.0)\n",
      "i=400 X=[4684.000  683.448] V=[   0.000  -34.522] thrust=[   0.000    4.000] fuel=  86.082\n",
      "(e, Pout, power) = (21.560844316034704, 4.312168863206941, 4.0)\n",
      "i=500 X=[4684.000  352.825] V=[   0.000  -31.632] thrust=[   0.000    4.000] fuel=  46.082\n",
      "safe landing - well done!\n",
      "\n",
      "(X0, V0) = ([2793, 2000], [0.0, 0.0])\n",
      "(e, Pout, power) = (9.626519161514175, 1.925303832302835, 1.925303832302835)\n",
      "i=100 X=[2793.000 1816.836] V=[   0.000  -33.577] thrust=[   0.000    1.925] fuel= 196.467\n",
      "(e, Pout, power) = (19.03788262544861, 3.807576525089722, 3.807576525089722)\n",
      "i=200 X=[2793.000 1438.912] V=[   0.000  -39.026] thrust=[   0.000    3.808] fuel= 164.806\n",
      "(e, Pout, power) = (20.377079528852455, 4.075415905770491, 4.0)\n",
      "i=300 X=[2793.000 1059.737] V=[   0.000  -36.552] thrust=[   0.000    4.000] fuel= 125.222\n",
      "(e, Pout, power) = (20.999234253310135, 4.199846850662027, 4.0)\n",
      "i=400 X=[2793.000  708.810] V=[   0.000  -33.662] thrust=[   0.000    4.000] fuel=  85.222\n",
      "safe landing - well done!\n",
      "\n",
      "(X0, V0) = ([5702, 2000], [0.0, 0.0])\n",
      "(e, Pout, power) = (9.283638105358413, 1.8567276210716828, 1.8567276210716828)\n",
      "i=100 X=[5702.000 1816.273] V=[   0.000  -33.886] thrust=[   0.000    1.857] fuel= 196.776\n",
      "(e, Pout, power) = (19.015219980265364, 3.803043996053073, 3.803043996053073)\n",
      "i=200 X=[5702.000 1433.425] V=[   0.000  -39.600] thrust=[   0.000    3.803] fuel= 165.380\n",
      "(e, Pout, power) = (20.415020953607684, 4.083004190721537, 4.0)\n",
      "i=300 X=[5702.000 1048.481] V=[   0.000  -37.128] thrust=[   0.000    4.000] fuel= 125.798\n",
      "(e, Pout, power) = (21.094772088925325, 4.218954417785065, 4.0)\n",
      "i=400 X=[5702.000  691.795] V=[   0.000  -34.238] thrust=[   0.000    4.000] fuel=  85.798\n",
      "safe landing - well done!\n",
      "\n",
      "(X0, V0) = ([3620, 2000], [0.0, 0.0])\n",
      "(e, Pout, power) = (13.121310088883504, 2.624262017776701, 2.624262017776701)\n",
      "i=100 X=[3620.000 1829.415] V=[   0.000  -28.723] thrust=[   0.000    2.624] fuel= 191.613\n",
      "(e, Pout, power) = (19.197098497888334, 3.839419699577667, 3.839419699577667)\n",
      "i=200 X=[3620.000 1518.366] V=[   0.000  -31.569] thrust=[   0.000    3.839] fuel= 157.349\n",
      "safe landing - well done!\n",
      "\n",
      "(X0, V0) = ([5001, 2000], [0.0, 0.0])\n",
      "(e, Pout, power) = (7.651461280949341, 1.5302922561898684, 1.5302922561898684)\n",
      "i=100 X=[5001.000 1814.383] V=[   0.000  -35.088] thrust=[   0.000    1.530] fuel= 197.978\n",
      "(e, Pout, power) = (18.896147954319385, 3.7792295908638773, 3.7792295908638773)\n",
      "i=200 X=[5001.000 1410.710] V=[   0.000  -42.079] thrust=[   0.000    3.779] fuel= 167.859\n",
      "(e, Pout, power) = (20.575029561102365, 4.115005912220473, 4.0)\n",
      "i=300 X=[5001.000 1000.716] V=[   0.000  -39.633] thrust=[   0.000    4.000] fuel= 128.303\n",
      "(e, Pout, power) = (21.50526699689327, 4.301053399378654, 4.0)\n",
      "i=400 X=[5001.000  618.981] V=[   0.000  -36.743] thrust=[   0.000    4.000] fuel=  88.303\n",
      "(e, Pout, power) = (22.14650443268417, 4.429300886536835, 4.0)\n",
      "i=500 X=[5001.000  266.147] V=[   0.000  -33.853] thrust=[   0.000    4.000] fuel=  48.303\n",
      "safe landing - well done!\n",
      "\n",
      "(X0, V0) = ([4523, 2000], [0.0, 0.0])\n",
      "(e, Pout, power) = (10.397794416560835, 2.079558883312167, 2.079558883312167)\n",
      "i=100 X=[4523.000 1818.394] V=[   0.000  -32.798] thrust=[   0.000    2.080] fuel= 195.688\n",
      "(e, Pout, power) = (19.085285143731454, 3.817057028746291, 3.817057028746291)\n",
      "i=200 X=[4523.000 1452.374] V=[   0.000  -37.656] thrust=[   0.000    3.817] fuel= 163.436\n",
      "(e, Pout, power) = (20.286078638456168, 4.057215727691234, 4.0)\n",
      "i=300 X=[4523.000 1086.942] V=[   0.000  -35.182] thrust=[   0.000    4.000] fuel= 123.852\n",
      "(e, Pout, power) = (20.771201449808437, 4.154240289961687, 4.0)\n",
      "i=400 X=[4523.000  749.718] V=[   0.000  -32.292] thrust=[   0.000    4.000] fuel=  83.852\n",
      "safe landing - well done!\n",
      "\n",
      "(X0, V0) = ([4725, 2000], [0.0, 0.0])\n",
      "(e, Pout, power) = (12.36078230949737, 2.4721564618994742, 2.4721564618994742)\n",
      "i=100 X=[4725.000 1825.097] V=[   0.000  -30.126] thrust=[   0.000    2.472] fuel= 193.016\n",
      "(e, Pout, power) = (19.17701013689731, 3.835402027379462, 3.835402027379462)\n",
      "i=200 X=[4725.000 1496.107] V=[   0.000  -33.519] thrust=[   0.000    3.835] fuel= 159.299\n",
      "(e, Pout, power) = (20.031514176548157, 4.006302835309632, 4.0)\n",
      "i=300 X=[4725.000 1171.786] V=[   0.000  -31.112] thrust=[   0.000    4.000] fuel= 119.782\n",
      "safe landing - well done!\n",
      "\n",
      "(X0, V0) = ([5008, 2000], [0.0, 0.0])\n",
      "(e, Pout, power) = (9.735058618236174, 1.9470117236472348, 1.9470117236472348)\n",
      "i=100 X=[5008.000 1817.028] V=[   0.000  -33.475] thrust=[   0.000    1.947] fuel= 196.365\n",
      "(e, Pout, power) = (19.044883786820968, 3.808976757364194, 3.808976757364194)\n",
      "i=200 X=[5008.000 1440.702] V=[   0.000  -38.841] thrust=[   0.000    3.809] fuel= 164.621\n",
      "(e, Pout, power) = (20.364778902796946, 4.072955780559389, 4.0)\n",
      "i=300 X=[5008.000 1063.390] V=[   0.000  -36.366] thrust=[   0.000    4.000] fuel= 125.036\n",
      "(e, Pout, power) = (20.96833860149472, 4.1936677202989445, 4.0)\n",
      "i=400 X=[5008.000  714.323] V=[   0.000  -33.476] thrust=[   0.000    4.000] fuel=  85.036\n",
      "safe landing - well done!\n",
      "\n",
      "(X0, V0) = ([3932, 2000], [0.0, 0.0])\n",
      "(e, Pout, power) = (13.348111563440835, 2.6696223126881673, 2.6696223126881673)\n",
      "i=100 X=[3932.000 1830.989] V=[   0.000  -28.250] thrust=[   0.000    2.670] fuel= 191.140\n"
     ]
    },
    {
     "name": "stdout",
     "output_type": "stream",
     "text": [
      "(e, Pout, power) = (19.200816321194754, 3.840163264238951, 3.840163264238951)\n",
      "i=200 X=[3932.000 1525.820] V=[   0.000  -30.937] thrust=[   0.000    3.840] fuel= 156.717\n",
      "safe landing - well done!\n",
      "\n",
      "(X0, V0) = ([5573, 2000], [0.0, 0.0])\n",
      "(e, Pout, power) = (7.620250252310278, 1.5240500504620558, 1.5240500504620558)\n",
      "i=100 X=[5573.000 1814.357] V=[   0.000  -35.108] thrust=[   0.000    1.524] fuel= 197.998\n",
      "(e, Pout, power) = (18.893710280333167, 3.7787420560666334, 3.7787420560666334)\n",
      "i=200 X=[5573.000 1410.323] V=[   0.000  -42.122] thrust=[   0.000    3.779] fuel= 167.902\n",
      "(e, Pout, power) = (20.577778015383963, 4.115555603076793, 4.0)\n",
      "i=300 X=[5573.000  999.885] V=[   0.000  -39.677] thrust=[   0.000    4.000] fuel= 128.347\n",
      "(e, Pout, power) = (21.512463765521456, 4.302492753104292, 4.0)\n",
      "i=400 X=[5573.000  617.706] V=[   0.000  -36.787] thrust=[   0.000    4.000] fuel=  88.347\n",
      "(e, Pout, power) = (22.15814951565895, 4.43162990313179, 4.0)\n",
      "i=500 X=[5573.000  264.426] V=[   0.000  -33.897] thrust=[   0.000    4.000] fuel=  48.347\n",
      "safe landing - well done!\n",
      "\n",
      "(X0, V0) = ([3562, 2000], [0.0, 0.0])\n",
      "(e, Pout, power) = (12.698657799536829, 2.539731559907366, 2.539731559907366)\n",
      "i=100 X=[3562.000 1826.854] V=[   0.000  -29.534] thrust=[   0.000    2.540] fuel= 192.424\n",
      "(e, Pout, power) = (19.187252312101556, 3.8374504624203114, 3.8374504624203114)\n",
      "i=200 X=[3562.000 1505.528] V=[   0.000  -32.683] thrust=[   0.000    3.837] fuel= 158.463\n",
      "(e, Pout, power) = (19.993786769761222, 3.9987573539522447, 3.9987573539522447)\n",
      "i=300 X=[3562.000 1189.448] V=[   0.000  -30.310] thrust=[   0.000    3.999] fuel= 118.980\n",
      "safe landing - well done!\n",
      "\n",
      "(X0, V0) = ([5211, 2000], [0.0, 0.0])\n",
      "(e, Pout, power) = (8.526724927191992, 1.7053449854383986, 1.7053449854383986)\n",
      "i=100 X=[5211.000 1815.253] V=[   0.000  -34.494] thrust=[   0.000    1.705] fuel= 197.384\n",
      "(e, Pout, power) = (18.962137738301493, 3.792427547660299, 3.792427547660299)\n",
      "i=200 X=[5211.000 1422.251] V=[   0.000  -40.797] thrust=[   0.000    3.792] fuel= 166.577\n",
      "(e, Pout, power) = (20.493324549870774, 4.098664909974155, 4.0)\n",
      "i=300 X=[5211.000 1025.229] V=[   0.000  -38.335] thrust=[   0.000    4.000] fuel= 127.005\n",
      "(e, Pout, power) = (21.293774346503852, 4.258754869300771, 4.0)\n",
      "i=400 X=[5211.000  656.473] V=[   0.000  -35.445] thrust=[   0.000    4.000] fuel=  87.005\n",
      "(e, Pout, power) = (21.805224143136925, 4.361044828627385, 4.0)\n",
      "i=500 X=[5211.000  316.617] V=[   0.000  -32.555] thrust=[   0.000    4.000] fuel=  47.005\n",
      "safe landing - well done!\n",
      "\n",
      "count / trials = 1.0\n"
     ]
    },
    {
     "data": {
      "text/plain": [
       "\u001b[32m\u001b[1mTest Passed\u001b[22m\u001b[39m"
      ]
     },
     "execution_count": 22,
     "metadata": {},
     "output_type": "execute_result"
    }
   ],
   "source": [
    "# Test 3 - random Martian surfaces\n",
    "\n",
    "Random.seed!(123) # seed random number generator for reproducible results\n",
    "\n",
    "trials = 20\n",
    "count = 0\n",
    "for i=1:trials\n",
    "    land, landing_site = mars_surface()\n",
    "    X0 = [(land[landing_site+1, 1] + land[landing_site, 1])÷2, 2000]\n",
    "    V0 = [0., 0.]\n",
    "    \n",
    "    @show X0, V0\n",
    "    Xs, Vs, thrust, success = simulate(X0, V0, land, landing_site; dt=0.1, Nstep=2000, \n",
    "                                       autopilot=proportional_autopilot, fuel=200)\n",
    "    count += success\n",
    "    println()\n",
    "end\n",
    "\n",
    "@show count/trials\n",
    "@test count/trials > 0.8 # require 80% success rate"
   ]
  },
  {
   "cell_type": "markdown",
   "metadata": {},
   "source": [
    "## Bonus Question\n",
    "\n",
    "Extend your autopilot to cope with the more diffcult case where the launcher starts at a random $(x, y)$ position within 1000m either side of the centre of the landing zone."
   ]
  },
  {
   "cell_type": "code",
   "execution_count": null,
   "metadata": {
    "nbgrader": {
     "grade": true,
     "grade_id": "cell-c68fa12cab417537",
     "locked": false,
     "points": 0,
     "schema_version": 3,
     "solution": true
    }
   },
   "outputs": [],
   "source": []
  },
  {
   "cell_type": "markdown",
   "metadata": {},
   "source": [
    "## Further ideas for extensions\n",
    "\n",
    "- Extend to the fully random case where the initial position can be any point $\\mathbf{X}_0 = (x, y)$ with $0 < x < 7000$ m and $1500 < y < 3000$ m. You may have to analyse the terrain to avoid crashing into any mountains!\n",
    "- Add random horizontal wind forces and improve the autopilot to compensate for these - how large can these force be before your autopilot loses control?\n",
    "- Extend the autopilot to cover orbital re-entry with initial velocities $\\mathbf{V}_0 = (v_x, v_y)$ in the range $-500 < v_x < 500$ m/s, $-500 < v_y < 500$ m/s to model orbital re-entryas well as the final descent stage\n",
    "- How might you tune your autopilot to achieve (i) minimal fuel usage, (ii) minimal descent time, (iii) minimal peak acceleration?"
   ]
  },
  {
   "cell_type": "code",
   "execution_count": null,
   "metadata": {},
   "outputs": [],
   "source": []
  }
 ],
 "metadata": {
  "celltoolbar": "Create Assignment",
  "kernelspec": {
   "display_name": "Julia 1.3.0",
   "language": "julia",
   "name": "julia-1.3"
  },
  "language_info": {
   "file_extension": ".jl",
   "mimetype": "application/julia",
   "name": "julia",
   "version": "1.3.0"
  }
 },
 "nbformat": 4,
 "nbformat_minor": 2
}
